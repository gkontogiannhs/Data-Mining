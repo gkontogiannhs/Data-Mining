{
 "cells": [
  {
   "cell_type": "code",
   "execution_count": 281,
   "id": "99c9afa1",
   "metadata": {},
   "outputs": [],
   "source": [
    "import pandas as pd\n",
    "from matplotlib import pyplot as plt\n",
    "import seaborn as sns; sns.set_theme()\n",
    "import os\n",
    "import glob\n",
    "import numpy as  np\n",
    "from tensorflow.keras.models import Sequential\n",
    "from tensorflow.keras.layers import LSTM, Dense, InputLayer\n",
    "from tensorflow.keras.callbacks import ModelCheckpoint, EarlyStopping\n",
    "from tensorflow.keras.regularizers import l2\n",
    "from tensorflow.keras.losses import MeanSquaredError\n",
    "from tensorflow.keras.metrics import RootMeanSquaredError\n",
    "from tensorflow.keras.optimizers import Adam\n",
    "\n",
    "def get_files(fn):\n",
    "    home = os.path.expanduser('~')\n",
    "    path = f'{home}/Downloads/project_mining_2022/dataset/'\n",
    "    files = glob.glob(path + fn + '/*.csv')\n",
    "    return files\n",
    "\n",
    "\n",
    "def to_date(char):\n",
    "    return char[:4] + '-' + char[4:6] + '-' + char[6:8]\n",
    "\n",
    "# for each file create a pandas df\n",
    "# concatenate them all together\n",
    "# change index to datetime\n",
    "def parse_file(files, filenames):\n",
    "    list_of_pandas = []\n",
    "    for i, f in enumerate(files):\n",
    "        # if file empty\n",
    "        if os.stat(f).st_size != 0:\n",
    "            # create df\n",
    "            temp = pd.read_csv(f, header=0, nrows=288, skip_blank_lines=False)\n",
    "            # create date column\n",
    "            temp['Date'] = [to_date(filenames[i]) for _ in range(288)]\n",
    "            # append df \n",
    "            list_of_pandas += [temp]\n",
    "    # cast all together\n",
    "    df = pd.concat(list_of_pandas, ignore_index=True)\n",
    "    df.index = pd.to_datetime(df['Date'] + ' ' + df['Time'], format='%Y-%m-%d %H:%M:%S')\n",
    "    df.drop(columns=['Date', 'Time'], inplace=True)\n",
    "    return df"
   ]
  },
  {
   "cell_type": "code",
   "execution_count": 282,
   "id": "bb4f5ae4",
   "metadata": {},
   "outputs": [],
   "source": [
    "# list files\n",
    "# demand_files = get_files('demand')\n",
    "source_files = get_files('sources')\n",
    "\n",
    "# list filenames to use on timestamps\n",
    "filenames = [file[-12: -4] for file in source_files]\n",
    "\n",
    "# get data from files\n",
    "# demands = parse_file(demand_files, filenames)\n",
    "sources = parse_file(source_files, filenames)"
   ]
  },
  {
   "cell_type": "code",
   "execution_count": 283,
   "id": "438871f4",
   "metadata": {},
   "outputs": [],
   "source": [
    "# move values and drop temp cols\n",
    "sources['Natural gas'].fillna(sources['Natural Gas'], inplace=True)\n",
    "sources['Large hydro'].fillna(sources['Large Hydro'], inplace=True)\n",
    "sources.drop(columns=['Natural Gas', 'Large Hydro'], inplace=True)\n",
    "\n",
    "# null values in demands are probably due to power cut\n",
    "# so, linear interpolation will be good estimate\n",
    "# demands.interpolate(method='linear', axis=0, inplace=True)\n",
    "\n",
    "# Linear interpolatio for missing data\n",
    "sources.interpolate(method='linear', axis=0, inplace=True)"
   ]
  },
  {
   "cell_type": "code",
   "execution_count": 284,
   "id": "aa6c96b3",
   "metadata": {},
   "outputs": [
    {
     "data": {
      "text/html": [
       "<div>\n",
       "<style scoped>\n",
       "    .dataframe tbody tr th:only-of-type {\n",
       "        vertical-align: middle;\n",
       "    }\n",
       "\n",
       "    .dataframe tbody tr th {\n",
       "        vertical-align: top;\n",
       "    }\n",
       "\n",
       "    .dataframe thead th {\n",
       "        text-align: right;\n",
       "    }\n",
       "</style>\n",
       "<table border=\"1\" class=\"dataframe\">\n",
       "  <thead>\n",
       "    <tr style=\"text-align: right;\">\n",
       "      <th></th>\n",
       "      <th>Solar</th>\n",
       "      <th>Wind</th>\n",
       "      <th>Geothermal</th>\n",
       "      <th>Biomass</th>\n",
       "      <th>Biogas</th>\n",
       "      <th>Small hydro</th>\n",
       "      <th>Coal</th>\n",
       "      <th>Nuclear</th>\n",
       "      <th>Natural gas</th>\n",
       "      <th>Large hydro</th>\n",
       "      <th>Batteries</th>\n",
       "      <th>Imports</th>\n",
       "      <th>Other</th>\n",
       "    </tr>\n",
       "  </thead>\n",
       "  <tbody>\n",
       "    <tr>\n",
       "      <th>2019-01-01 00:00:00</th>\n",
       "      <td>0.0</td>\n",
       "      <td>2810.0</td>\n",
       "      <td>993.0</td>\n",
       "      <td>380.0</td>\n",
       "      <td>225.0</td>\n",
       "      <td>200.0</td>\n",
       "      <td>11.0</td>\n",
       "      <td>2273.0</td>\n",
       "      <td>7326.0</td>\n",
       "      <td>1924.0</td>\n",
       "      <td>6.0</td>\n",
       "      <td>6254.0</td>\n",
       "      <td>0.0</td>\n",
       "    </tr>\n",
       "    <tr>\n",
       "      <th>2019-01-01 00:05:00</th>\n",
       "      <td>0.0</td>\n",
       "      <td>2862.0</td>\n",
       "      <td>993.0</td>\n",
       "      <td>381.0</td>\n",
       "      <td>226.0</td>\n",
       "      <td>201.0</td>\n",
       "      <td>11.0</td>\n",
       "      <td>2273.0</td>\n",
       "      <td>7200.0</td>\n",
       "      <td>1866.0</td>\n",
       "      <td>65.0</td>\n",
       "      <td>6266.0</td>\n",
       "      <td>0.0</td>\n",
       "    </tr>\n",
       "    <tr>\n",
       "      <th>2019-01-01 00:10:00</th>\n",
       "      <td>0.0</td>\n",
       "      <td>2916.0</td>\n",
       "      <td>993.0</td>\n",
       "      <td>380.0</td>\n",
       "      <td>226.0</td>\n",
       "      <td>202.0</td>\n",
       "      <td>11.0</td>\n",
       "      <td>2272.0</td>\n",
       "      <td>7057.0</td>\n",
       "      <td>1849.0</td>\n",
       "      <td>64.0</td>\n",
       "      <td>6319.0</td>\n",
       "      <td>0.0</td>\n",
       "    </tr>\n",
       "    <tr>\n",
       "      <th>2019-01-01 00:15:00</th>\n",
       "      <td>0.0</td>\n",
       "      <td>2920.0</td>\n",
       "      <td>993.0</td>\n",
       "      <td>378.0</td>\n",
       "      <td>223.0</td>\n",
       "      <td>203.0</td>\n",
       "      <td>11.0</td>\n",
       "      <td>2272.0</td>\n",
       "      <td>7007.0</td>\n",
       "      <td>1827.0</td>\n",
       "      <td>25.0</td>\n",
       "      <td>6354.0</td>\n",
       "      <td>0.0</td>\n",
       "    </tr>\n",
       "    <tr>\n",
       "      <th>2019-01-01 00:20:00</th>\n",
       "      <td>0.0</td>\n",
       "      <td>2902.0</td>\n",
       "      <td>993.0</td>\n",
       "      <td>379.0</td>\n",
       "      <td>223.0</td>\n",
       "      <td>203.0</td>\n",
       "      <td>11.0</td>\n",
       "      <td>2273.0</td>\n",
       "      <td>6970.0</td>\n",
       "      <td>1840.0</td>\n",
       "      <td>32.0</td>\n",
       "      <td>6360.0</td>\n",
       "      <td>0.0</td>\n",
       "    </tr>\n",
       "  </tbody>\n",
       "</table>\n",
       "</div>"
      ],
      "text/plain": [
       "                     Solar    Wind  Geothermal  Biomass  Biogas  Small hydro  \\\n",
       "2019-01-01 00:00:00    0.0  2810.0       993.0    380.0   225.0        200.0   \n",
       "2019-01-01 00:05:00    0.0  2862.0       993.0    381.0   226.0        201.0   \n",
       "2019-01-01 00:10:00    0.0  2916.0       993.0    380.0   226.0        202.0   \n",
       "2019-01-01 00:15:00    0.0  2920.0       993.0    378.0   223.0        203.0   \n",
       "2019-01-01 00:20:00    0.0  2902.0       993.0    379.0   223.0        203.0   \n",
       "\n",
       "                     Coal  Nuclear  Natural gas  Large hydro  Batteries  \\\n",
       "2019-01-01 00:00:00  11.0   2273.0       7326.0       1924.0        6.0   \n",
       "2019-01-01 00:05:00  11.0   2273.0       7200.0       1866.0       65.0   \n",
       "2019-01-01 00:10:00  11.0   2272.0       7057.0       1849.0       64.0   \n",
       "2019-01-01 00:15:00  11.0   2272.0       7007.0       1827.0       25.0   \n",
       "2019-01-01 00:20:00  11.0   2273.0       6970.0       1840.0       32.0   \n",
       "\n",
       "                     Imports  Other  \n",
       "2019-01-01 00:00:00   6254.0    0.0  \n",
       "2019-01-01 00:05:00   6266.0    0.0  \n",
       "2019-01-01 00:10:00   6319.0    0.0  \n",
       "2019-01-01 00:15:00   6354.0    0.0  \n",
       "2019-01-01 00:20:00   6360.0    0.0  "
      ]
     },
     "execution_count": 284,
     "metadata": {},
     "output_type": "execute_result"
    }
   ],
   "source": [
    "sources.head()"
   ]
  },
  {
   "cell_type": "code",
   "execution_count": 285,
   "id": "c11e2654",
   "metadata": {},
   "outputs": [
    {
     "data": {
      "text/html": [
       "<div>\n",
       "<style scoped>\n",
       "    .dataframe tbody tr th:only-of-type {\n",
       "        vertical-align: middle;\n",
       "    }\n",
       "\n",
       "    .dataframe tbody tr th {\n",
       "        vertical-align: top;\n",
       "    }\n",
       "\n",
       "    .dataframe thead th {\n",
       "        text-align: right;\n",
       "    }\n",
       "</style>\n",
       "<table border=\"1\" class=\"dataframe\">\n",
       "  <thead>\n",
       "    <tr style=\"text-align: right;\">\n",
       "      <th></th>\n",
       "      <th>Solar</th>\n",
       "      <th>Wind</th>\n",
       "      <th>Geothermal</th>\n",
       "      <th>Biomass</th>\n",
       "      <th>Biogas</th>\n",
       "      <th>Small hydro</th>\n",
       "      <th>Large hydro</th>\n",
       "      <th>Batteries</th>\n",
       "      <th>Imports</th>\n",
       "      <th>non_re_sum</th>\n",
       "    </tr>\n",
       "  </thead>\n",
       "  <tbody>\n",
       "    <tr>\n",
       "      <th>2019-01-01 00:00:00</th>\n",
       "      <td>0.0</td>\n",
       "      <td>2810.0</td>\n",
       "      <td>993.0</td>\n",
       "      <td>380.0</td>\n",
       "      <td>225.0</td>\n",
       "      <td>200.0</td>\n",
       "      <td>1924.0</td>\n",
       "      <td>6.0</td>\n",
       "      <td>6254.0</td>\n",
       "      <td>9610.0</td>\n",
       "    </tr>\n",
       "    <tr>\n",
       "      <th>2019-01-01 00:05:00</th>\n",
       "      <td>0.0</td>\n",
       "      <td>2862.0</td>\n",
       "      <td>993.0</td>\n",
       "      <td>381.0</td>\n",
       "      <td>226.0</td>\n",
       "      <td>201.0</td>\n",
       "      <td>1866.0</td>\n",
       "      <td>65.0</td>\n",
       "      <td>6266.0</td>\n",
       "      <td>9484.0</td>\n",
       "    </tr>\n",
       "    <tr>\n",
       "      <th>2019-01-01 00:10:00</th>\n",
       "      <td>0.0</td>\n",
       "      <td>2916.0</td>\n",
       "      <td>993.0</td>\n",
       "      <td>380.0</td>\n",
       "      <td>226.0</td>\n",
       "      <td>202.0</td>\n",
       "      <td>1849.0</td>\n",
       "      <td>64.0</td>\n",
       "      <td>6319.0</td>\n",
       "      <td>9340.0</td>\n",
       "    </tr>\n",
       "    <tr>\n",
       "      <th>2019-01-01 00:15:00</th>\n",
       "      <td>0.0</td>\n",
       "      <td>2920.0</td>\n",
       "      <td>993.0</td>\n",
       "      <td>378.0</td>\n",
       "      <td>223.0</td>\n",
       "      <td>203.0</td>\n",
       "      <td>1827.0</td>\n",
       "      <td>25.0</td>\n",
       "      <td>6354.0</td>\n",
       "      <td>9290.0</td>\n",
       "    </tr>\n",
       "    <tr>\n",
       "      <th>2019-01-01 00:20:00</th>\n",
       "      <td>0.0</td>\n",
       "      <td>2902.0</td>\n",
       "      <td>993.0</td>\n",
       "      <td>379.0</td>\n",
       "      <td>223.0</td>\n",
       "      <td>203.0</td>\n",
       "      <td>1840.0</td>\n",
       "      <td>32.0</td>\n",
       "      <td>6360.0</td>\n",
       "      <td>9254.0</td>\n",
       "    </tr>\n",
       "  </tbody>\n",
       "</table>\n",
       "</div>"
      ],
      "text/plain": [
       "                     Solar    Wind  Geothermal  Biomass  Biogas  Small hydro  \\\n",
       "2019-01-01 00:00:00    0.0  2810.0       993.0    380.0   225.0        200.0   \n",
       "2019-01-01 00:05:00    0.0  2862.0       993.0    381.0   226.0        201.0   \n",
       "2019-01-01 00:10:00    0.0  2916.0       993.0    380.0   226.0        202.0   \n",
       "2019-01-01 00:15:00    0.0  2920.0       993.0    378.0   223.0        203.0   \n",
       "2019-01-01 00:20:00    0.0  2902.0       993.0    379.0   223.0        203.0   \n",
       "\n",
       "                     Large hydro  Batteries  Imports  non_re_sum  \n",
       "2019-01-01 00:00:00       1924.0        6.0   6254.0      9610.0  \n",
       "2019-01-01 00:05:00       1866.0       65.0   6266.0      9484.0  \n",
       "2019-01-01 00:10:00       1849.0       64.0   6319.0      9340.0  \n",
       "2019-01-01 00:15:00       1827.0       25.0   6354.0      9290.0  \n",
       "2019-01-01 00:20:00       1840.0       32.0   6360.0      9254.0  "
      ]
     },
     "execution_count": 285,
     "metadata": {},
     "output_type": "execute_result"
    }
   ],
   "source": [
    "df = pd.concat([sources[renewable], sources[non_renewable].sum(axis=1)], axis=1)\n",
    "df.rename(columns = {0:'non_re_sum'}, inplace = True)\n",
    "df.head()"
   ]
  },
  {
   "cell_type": "code",
   "execution_count": 286,
   "id": "bc51c8ba",
   "metadata": {},
   "outputs": [
    {
     "data": {
      "text/html": [
       "<div>\n",
       "<style scoped>\n",
       "    .dataframe tbody tr th:only-of-type {\n",
       "        vertical-align: middle;\n",
       "    }\n",
       "\n",
       "    .dataframe tbody tr th {\n",
       "        vertical-align: top;\n",
       "    }\n",
       "\n",
       "    .dataframe thead th {\n",
       "        text-align: right;\n",
       "    }\n",
       "</style>\n",
       "<table border=\"1\" class=\"dataframe\">\n",
       "  <thead>\n",
       "    <tr style=\"text-align: right;\">\n",
       "      <th></th>\n",
       "      <th>Solar</th>\n",
       "      <th>Wind</th>\n",
       "      <th>Geothermal</th>\n",
       "      <th>Biomass</th>\n",
       "      <th>Biogas</th>\n",
       "      <th>Small hydro</th>\n",
       "      <th>Large hydro</th>\n",
       "      <th>Batteries</th>\n",
       "      <th>Imports</th>\n",
       "      <th>non_re_sum</th>\n",
       "      <th>Seconds</th>\n",
       "      <th>Day sin</th>\n",
       "      <th>Day cos</th>\n",
       "      <th>Year sin</th>\n",
       "      <th>Year cos</th>\n",
       "    </tr>\n",
       "  </thead>\n",
       "  <tbody>\n",
       "    <tr>\n",
       "      <th>2019-01-01 00:00:00</th>\n",
       "      <td>0.0</td>\n",
       "      <td>2810.0</td>\n",
       "      <td>993.0</td>\n",
       "      <td>380.0</td>\n",
       "      <td>225.0</td>\n",
       "      <td>200.0</td>\n",
       "      <td>1924.0</td>\n",
       "      <td>6.0</td>\n",
       "      <td>6254.0</td>\n",
       "      <td>9610.0</td>\n",
       "      <td>1.546301e+09</td>\n",
       "      <td>-5.030095e-12</td>\n",
       "      <td>1.000000</td>\n",
       "      <td>0.002021</td>\n",
       "      <td>0.999998</td>\n",
       "    </tr>\n",
       "    <tr>\n",
       "      <th>2019-01-01 00:05:00</th>\n",
       "      <td>0.0</td>\n",
       "      <td>2862.0</td>\n",
       "      <td>993.0</td>\n",
       "      <td>381.0</td>\n",
       "      <td>226.0</td>\n",
       "      <td>201.0</td>\n",
       "      <td>1866.0</td>\n",
       "      <td>65.0</td>\n",
       "      <td>6266.0</td>\n",
       "      <td>9484.0</td>\n",
       "      <td>1.546301e+09</td>\n",
       "      <td>2.181489e-02</td>\n",
       "      <td>0.999762</td>\n",
       "      <td>0.002081</td>\n",
       "      <td>0.999998</td>\n",
       "    </tr>\n",
       "    <tr>\n",
       "      <th>2019-01-01 00:10:00</th>\n",
       "      <td>0.0</td>\n",
       "      <td>2916.0</td>\n",
       "      <td>993.0</td>\n",
       "      <td>380.0</td>\n",
       "      <td>226.0</td>\n",
       "      <td>202.0</td>\n",
       "      <td>1849.0</td>\n",
       "      <td>64.0</td>\n",
       "      <td>6319.0</td>\n",
       "      <td>9340.0</td>\n",
       "      <td>1.546301e+09</td>\n",
       "      <td>4.361939e-02</td>\n",
       "      <td>0.999048</td>\n",
       "      <td>0.002141</td>\n",
       "      <td>0.999998</td>\n",
       "    </tr>\n",
       "    <tr>\n",
       "      <th>2019-01-01 00:15:00</th>\n",
       "      <td>0.0</td>\n",
       "      <td>2920.0</td>\n",
       "      <td>993.0</td>\n",
       "      <td>378.0</td>\n",
       "      <td>223.0</td>\n",
       "      <td>203.0</td>\n",
       "      <td>1827.0</td>\n",
       "      <td>25.0</td>\n",
       "      <td>6354.0</td>\n",
       "      <td>9290.0</td>\n",
       "      <td>1.546302e+09</td>\n",
       "      <td>6.540313e-02</td>\n",
       "      <td>0.997859</td>\n",
       "      <td>0.002201</td>\n",
       "      <td>0.999998</td>\n",
       "    </tr>\n",
       "    <tr>\n",
       "      <th>2019-01-01 00:20:00</th>\n",
       "      <td>0.0</td>\n",
       "      <td>2902.0</td>\n",
       "      <td>993.0</td>\n",
       "      <td>379.0</td>\n",
       "      <td>223.0</td>\n",
       "      <td>203.0</td>\n",
       "      <td>1840.0</td>\n",
       "      <td>32.0</td>\n",
       "      <td>6360.0</td>\n",
       "      <td>9254.0</td>\n",
       "      <td>1.546302e+09</td>\n",
       "      <td>8.715574e-02</td>\n",
       "      <td>0.996195</td>\n",
       "      <td>0.002260</td>\n",
       "      <td>0.999997</td>\n",
       "    </tr>\n",
       "  </tbody>\n",
       "</table>\n",
       "</div>"
      ],
      "text/plain": [
       "                     Solar    Wind  Geothermal  Biomass  Biogas  Small hydro  \\\n",
       "2019-01-01 00:00:00    0.0  2810.0       993.0    380.0   225.0        200.0   \n",
       "2019-01-01 00:05:00    0.0  2862.0       993.0    381.0   226.0        201.0   \n",
       "2019-01-01 00:10:00    0.0  2916.0       993.0    380.0   226.0        202.0   \n",
       "2019-01-01 00:15:00    0.0  2920.0       993.0    378.0   223.0        203.0   \n",
       "2019-01-01 00:20:00    0.0  2902.0       993.0    379.0   223.0        203.0   \n",
       "\n",
       "                     Large hydro  Batteries  Imports  non_re_sum  \\\n",
       "2019-01-01 00:00:00       1924.0        6.0   6254.0      9610.0   \n",
       "2019-01-01 00:05:00       1866.0       65.0   6266.0      9484.0   \n",
       "2019-01-01 00:10:00       1849.0       64.0   6319.0      9340.0   \n",
       "2019-01-01 00:15:00       1827.0       25.0   6354.0      9290.0   \n",
       "2019-01-01 00:20:00       1840.0       32.0   6360.0      9254.0   \n",
       "\n",
       "                          Seconds       Day sin   Day cos  Year sin  Year cos  \n",
       "2019-01-01 00:00:00  1.546301e+09 -5.030095e-12  1.000000  0.002021  0.999998  \n",
       "2019-01-01 00:05:00  1.546301e+09  2.181489e-02  0.999762  0.002081  0.999998  \n",
       "2019-01-01 00:10:00  1.546301e+09  4.361939e-02  0.999048  0.002141  0.999998  \n",
       "2019-01-01 00:15:00  1.546302e+09  6.540313e-02  0.997859  0.002201  0.999998  \n",
       "2019-01-01 00:20:00  1.546302e+09  8.715574e-02  0.996195  0.002260  0.999997  "
      ]
     },
     "execution_count": 286,
     "metadata": {},
     "output_type": "execute_result"
    }
   ],
   "source": [
    "df['Seconds'] = df.index.map(pd.Timestamp.timestamp)\n",
    "\n",
    "day = 60*60*24\n",
    "year = 365.2425*day\n",
    "\n",
    "df['Day sin'] = np.sin(df['Seconds'] * (2* np.pi / day))\n",
    "df['Day cos'] = np.cos(df['Seconds'] * (2 * np.pi / day))\n",
    "df['Year sin'] = np.sin(df['Seconds'] * (2 * np.pi / year))\n",
    "df['Year cos'] = np.cos(df['Seconds'] * (2 * np.pi / year))\n",
    "df.head()"
   ]
  },
  {
   "cell_type": "code",
   "execution_count": 287,
   "id": "77b6318f",
   "metadata": {},
   "outputs": [
    {
     "data": {
      "text/html": [
       "<div>\n",
       "<style scoped>\n",
       "    .dataframe tbody tr th:only-of-type {\n",
       "        vertical-align: middle;\n",
       "    }\n",
       "\n",
       "    .dataframe tbody tr th {\n",
       "        vertical-align: top;\n",
       "    }\n",
       "\n",
       "    .dataframe thead th {\n",
       "        text-align: right;\n",
       "    }\n",
       "</style>\n",
       "<table border=\"1\" class=\"dataframe\">\n",
       "  <thead>\n",
       "    <tr style=\"text-align: right;\">\n",
       "      <th></th>\n",
       "      <th>Solar</th>\n",
       "      <th>Wind</th>\n",
       "      <th>Geothermal</th>\n",
       "      <th>Biomass</th>\n",
       "      <th>Biogas</th>\n",
       "      <th>Small hydro</th>\n",
       "      <th>Large hydro</th>\n",
       "      <th>Batteries</th>\n",
       "      <th>Imports</th>\n",
       "      <th>non_re_sum</th>\n",
       "      <th>Day sin</th>\n",
       "      <th>Day cos</th>\n",
       "      <th>Year sin</th>\n",
       "      <th>Year cos</th>\n",
       "    </tr>\n",
       "  </thead>\n",
       "  <tbody>\n",
       "    <tr>\n",
       "      <th>2019-01-01 00:00:00</th>\n",
       "      <td>0.0</td>\n",
       "      <td>2810.0</td>\n",
       "      <td>993.0</td>\n",
       "      <td>380.0</td>\n",
       "      <td>225.0</td>\n",
       "      <td>200.0</td>\n",
       "      <td>1924.0</td>\n",
       "      <td>6.0</td>\n",
       "      <td>6254.0</td>\n",
       "      <td>9610.0</td>\n",
       "      <td>-5.030095e-12</td>\n",
       "      <td>1.000000</td>\n",
       "      <td>0.002021</td>\n",
       "      <td>0.999998</td>\n",
       "    </tr>\n",
       "    <tr>\n",
       "      <th>2019-01-01 00:05:00</th>\n",
       "      <td>0.0</td>\n",
       "      <td>2862.0</td>\n",
       "      <td>993.0</td>\n",
       "      <td>381.0</td>\n",
       "      <td>226.0</td>\n",
       "      <td>201.0</td>\n",
       "      <td>1866.0</td>\n",
       "      <td>65.0</td>\n",
       "      <td>6266.0</td>\n",
       "      <td>9484.0</td>\n",
       "      <td>2.181489e-02</td>\n",
       "      <td>0.999762</td>\n",
       "      <td>0.002081</td>\n",
       "      <td>0.999998</td>\n",
       "    </tr>\n",
       "    <tr>\n",
       "      <th>2019-01-01 00:10:00</th>\n",
       "      <td>0.0</td>\n",
       "      <td>2916.0</td>\n",
       "      <td>993.0</td>\n",
       "      <td>380.0</td>\n",
       "      <td>226.0</td>\n",
       "      <td>202.0</td>\n",
       "      <td>1849.0</td>\n",
       "      <td>64.0</td>\n",
       "      <td>6319.0</td>\n",
       "      <td>9340.0</td>\n",
       "      <td>4.361939e-02</td>\n",
       "      <td>0.999048</td>\n",
       "      <td>0.002141</td>\n",
       "      <td>0.999998</td>\n",
       "    </tr>\n",
       "    <tr>\n",
       "      <th>2019-01-01 00:15:00</th>\n",
       "      <td>0.0</td>\n",
       "      <td>2920.0</td>\n",
       "      <td>993.0</td>\n",
       "      <td>378.0</td>\n",
       "      <td>223.0</td>\n",
       "      <td>203.0</td>\n",
       "      <td>1827.0</td>\n",
       "      <td>25.0</td>\n",
       "      <td>6354.0</td>\n",
       "      <td>9290.0</td>\n",
       "      <td>6.540313e-02</td>\n",
       "      <td>0.997859</td>\n",
       "      <td>0.002201</td>\n",
       "      <td>0.999998</td>\n",
       "    </tr>\n",
       "    <tr>\n",
       "      <th>2019-01-01 00:20:00</th>\n",
       "      <td>0.0</td>\n",
       "      <td>2902.0</td>\n",
       "      <td>993.0</td>\n",
       "      <td>379.0</td>\n",
       "      <td>223.0</td>\n",
       "      <td>203.0</td>\n",
       "      <td>1840.0</td>\n",
       "      <td>32.0</td>\n",
       "      <td>6360.0</td>\n",
       "      <td>9254.0</td>\n",
       "      <td>8.715574e-02</td>\n",
       "      <td>0.996195</td>\n",
       "      <td>0.002260</td>\n",
       "      <td>0.999997</td>\n",
       "    </tr>\n",
       "  </tbody>\n",
       "</table>\n",
       "</div>"
      ],
      "text/plain": [
       "                     Solar    Wind  Geothermal  Biomass  Biogas  Small hydro  \\\n",
       "2019-01-01 00:00:00    0.0  2810.0       993.0    380.0   225.0        200.0   \n",
       "2019-01-01 00:05:00    0.0  2862.0       993.0    381.0   226.0        201.0   \n",
       "2019-01-01 00:10:00    0.0  2916.0       993.0    380.0   226.0        202.0   \n",
       "2019-01-01 00:15:00    0.0  2920.0       993.0    378.0   223.0        203.0   \n",
       "2019-01-01 00:20:00    0.0  2902.0       993.0    379.0   223.0        203.0   \n",
       "\n",
       "                     Large hydro  Batteries  Imports  non_re_sum  \\\n",
       "2019-01-01 00:00:00       1924.0        6.0   6254.0      9610.0   \n",
       "2019-01-01 00:05:00       1866.0       65.0   6266.0      9484.0   \n",
       "2019-01-01 00:10:00       1849.0       64.0   6319.0      9340.0   \n",
       "2019-01-01 00:15:00       1827.0       25.0   6354.0      9290.0   \n",
       "2019-01-01 00:20:00       1840.0       32.0   6360.0      9254.0   \n",
       "\n",
       "                          Day sin   Day cos  Year sin  Year cos  \n",
       "2019-01-01 00:00:00 -5.030095e-12  1.000000  0.002021  0.999998  \n",
       "2019-01-01 00:05:00  2.181489e-02  0.999762  0.002081  0.999998  \n",
       "2019-01-01 00:10:00  4.361939e-02  0.999048  0.002141  0.999998  \n",
       "2019-01-01 00:15:00  6.540313e-02  0.997859  0.002201  0.999998  \n",
       "2019-01-01 00:20:00  8.715574e-02  0.996195  0.002260  0.999997  "
      ]
     },
     "execution_count": 287,
     "metadata": {},
     "output_type": "execute_result"
    }
   ],
   "source": [
    "df = df.drop('Seconds', axis=1)\n",
    "df.head()"
   ]
  },
  {
   "cell_type": "code",
   "execution_count": 288,
   "id": "20e1b2d8",
   "metadata": {},
   "outputs": [],
   "source": [
    "def df_to_tensor(df, window_size=12):\n",
    "    data = df.to_numpy()\n",
    "    X, y = [], []\n",
    "    for i in range(data.shape[0]-window_size):\n",
    "        row = [r for r in data[i:i+window_size]]\n",
    "        label = data[i+window_size][9]\n",
    "        X.append(row)\n",
    "        y.append(label)\n",
    "    return np.array(X), np.array(y)"
   ]
  },
  {
   "cell_type": "code",
   "execution_count": 289,
   "id": "237f4763",
   "metadata": {},
   "outputs": [
    {
     "name": "stdout",
     "output_type": "stream",
     "text": [
      "[[ 0.00000000e+00  2.81000000e+03  9.93000000e+02  3.80000000e+02\n",
      "   2.25000000e+02  2.00000000e+02  1.92400000e+03  6.00000000e+00\n",
      "   6.25400000e+03  9.61000000e+03 -5.03009464e-12  1.00000000e+00\n",
      "   2.02132493e-03  9.99997957e-01]\n",
      " [ 0.00000000e+00  2.86200000e+03  9.93000000e+02  3.81000000e+02\n",
      "   2.26000000e+02  2.01000000e+02  1.86600000e+03  6.50000000e+01\n",
      "   6.26600000e+03  9.48400000e+03  2.18148850e-02  9.99762027e-01\n",
      "   2.08105667e-03  9.99997835e-01]\n",
      " [ 0.00000000e+00  2.91600000e+03  9.93000000e+02  3.80000000e+02\n",
      "   2.26000000e+02  2.02000000e+02  1.84900000e+03  6.40000000e+01\n",
      "   6.31900000e+03  9.34000000e+03  4.36193874e-02  9.99048222e-01\n",
      "   2.14078840e-03  9.99997709e-01]\n",
      " [ 0.00000000e+00  2.92000000e+03  9.93000000e+02  3.78000000e+02\n",
      "   2.23000000e+02  2.03000000e+02  1.82700000e+03  2.50000000e+01\n",
      "   6.35400000e+03  9.29000000e+03  6.54031292e-02  9.97858923e-01\n",
      "   2.20052013e-03  9.99997579e-01]\n",
      " [ 0.00000000e+00  2.90200000e+03  9.93000000e+02  3.79000000e+02\n",
      "   2.23000000e+02  2.03000000e+02  1.84000000e+03  3.20000000e+01\n",
      "   6.36000000e+03  9.25400000e+03  8.71557427e-02  9.96194698e-01\n",
      "   2.26025184e-03  9.99997446e-01]\n",
      " [ 0.00000000e+00  2.87400000e+03  9.92000000e+02  3.79000000e+02\n",
      "   2.23000000e+02  2.05000000e+02  1.84000000e+03  2.50000000e+01\n",
      "   6.30200000e+03  9.20800000e+03  1.08866875e-01  9.94056338e-01\n",
      "   2.31998355e-03  9.99997309e-01]\n",
      " [ 0.00000000e+00  2.84500000e+03  9.93000000e+02  3.79000000e+02\n",
      "   2.23000000e+02  2.03000000e+02  1.84500000e+03  3.80000000e+01\n",
      "   6.27000000e+03  9.20300000e+03  1.30526192e-01  9.91444861e-01\n",
      "   2.37971525e-03  9.99997168e-01]\n",
      " [ 0.00000000e+00  2.80700000e+03  9.93000000e+02  3.78000000e+02\n",
      "   2.24000000e+02  2.03000000e+02  1.84300000e+03  4.00000000e+01\n",
      "   6.26300000e+03  9.16900000e+03  1.52123386e-01  9.88361510e-01\n",
      "   2.43944694e-03  9.99997025e-01]\n",
      " [ 0.00000000e+00  2.76300000e+03  9.92000000e+02  3.77000000e+02\n",
      "   2.24000000e+02  1.98000000e+02  1.83100000e+03  3.40000000e+01\n",
      "   6.33800000e+03  9.07400000e+03  1.73648178e-01  9.84807753e-01\n",
      "   2.49917862e-03  9.99996877e-01]\n",
      " [ 0.00000000e+00  2.73500000e+03  9.92000000e+02  3.77000000e+02\n",
      "   2.18000000e+02  1.97000000e+02  1.90200000e+03  3.30000000e+01\n",
      "   6.35200000e+03  9.04500000e+03  1.95090322e-01  9.80785280e-01\n",
      "   2.55891030e-03  9.99996726e-01]\n",
      " [ 0.00000000e+00  2.69300000e+03  9.92000000e+02  3.77000000e+02\n",
      "   2.07000000e+02  1.93000000e+02  1.95200000e+03  6.30000000e+01\n",
      "   6.32300000e+03  8.97700000e+03  2.16439614e-01  9.76296007e-01\n",
      "   2.61864196e-03  9.99996571e-01]\n",
      " [ 0.00000000e+00  2.61800000e+03  9.92000000e+02  3.77000000e+02\n",
      "   2.07000000e+02  1.92000000e+02  1.95400000e+03  5.30000000e+01\n",
      "   6.27000000e+03  9.01300000e+03  2.37685892e-01  9.71342070e-01\n",
      "   2.67837362e-03  9.99996413e-01]]\n"
     ]
    }
   ],
   "source": [
    "WINDOW_SIZE = 12\n",
    "X, y = df_to_tensor(df, WINDOW_SIZE)\n",
    "print(X[0])"
   ]
  },
  {
   "cell_type": "code",
   "execution_count": 290,
   "id": "f9812569",
   "metadata": {},
   "outputs": [
    {
     "name": "stdout",
     "output_type": "stream",
     "text": [
      "[9092. 9072.]\n"
     ]
    }
   ],
   "source": [
    "print(y[:2])"
   ]
  },
  {
   "cell_type": "code",
   "execution_count": 291,
   "id": "3dcb06f8",
   "metadata": {},
   "outputs": [
    {
     "data": {
      "text/plain": [
       "((315636, 12, 14), (315636,))"
      ]
     },
     "execution_count": 291,
     "metadata": {},
     "output_type": "execute_result"
    }
   ],
   "source": [
    "X.shape, y.shape"
   ]
  },
  {
   "cell_type": "code",
   "execution_count": 292,
   "id": "e7b4bf3a",
   "metadata": {},
   "outputs": [],
   "source": [
    "# 2 full years per hour data\n",
    "X_train, y_train = X[:210527], y[:210527]\n",
    "X_test, y_test = X[210527:], y[210527:]\n",
    "# X_val, y_val = X[290000:], y[290000:]"
   ]
  },
  {
   "cell_type": "code",
   "execution_count": 293,
   "id": "e221456c",
   "metadata": {},
   "outputs": [
    {
     "data": {
      "text/plain": [
       "((210527, 12, 14), (210527,), (105109, 12, 14), (105109,))"
      ]
     },
     "execution_count": 293,
     "metadata": {},
     "output_type": "execute_result"
    }
   ],
   "source": [
    "X_train.shape, y_train.shape, X_test.shape, y_test.shape"
   ]
  },
  {
   "cell_type": "code",
   "execution_count": 294,
   "id": "493c1f88",
   "metadata": {},
   "outputs": [
    {
     "name": "stdout",
     "output_type": "stream",
     "text": [
      "[3378.3171730941876, 1883.3530901024571, 880.8901684819524, 319.60763029603487, 213.8727083303646, 311.81962764871014, 2282.6600202507675, -2.697052713745347, 6164.9522860092375, 9790.10272316615]\n",
      "[4150.820082453391, 1245.504565397382, 127.85944608854632, 49.53910708892827, 16.032076106081437, 948.3674689862885, 1301.1706658740063, 34.34200835380716, 2493.2905265870154, 3933.549262050329]\n"
     ]
    }
   ],
   "source": [
    "means, stds = [], []\n",
    "for i in range(X_train.shape[2]-4):\n",
    "    means.append(np.mean(X_train[:, :, i]))\n",
    "    stds.append(np.std(X_train[:, :, i]))\n",
    "    \n",
    "print(means)\n",
    "print(stds)\n",
    "\n",
    "def preprocess_input(X, mean, std):\n",
    "    for i in range(X.shape[2]-4):\n",
    "        X[:, :, i] = (X[:, :, i] - mean[i]) / std[i]\n",
    "    return X\n",
    "\n",
    "def preprocess_output(y, mean, std):\n",
    "    y[:] = (y[:] - mean) / std\n",
    "    return y"
   ]
  },
  {
   "cell_type": "code",
   "execution_count": 295,
   "id": "750104d0",
   "metadata": {},
   "outputs": [
    {
     "name": "stdout",
     "output_type": "stream",
     "text": [
      "[-8.13891498e-01  7.43993186e-01  8.76820876e-01  1.21908474e+00\n",
      "  6.94064299e-01 -1.17907490e-01 -2.75644102e-01  2.53248227e-01\n",
      "  3.57149370e-02 -4.57863144e-02 -5.03009464e-12  1.00000000e+00\n",
      "  2.02132493e-03  9.99997957e-01]\n",
      "[-0.82376906 -0.38566947  0.5952617  -0.21412639 -0.92768449 -0.17801077\n",
      " -1.22171523 -1.93066598  1.42143391 -0.14823832 -0.02181489  0.99976203\n",
      "  0.01082081  0.99994145]\n"
     ]
    }
   ],
   "source": [
    "X_train_scaled = preprocess_input(X_train, means, stds)\n",
    "X_test_scaled = preprocess_input(X_test, means, stds)\n",
    "print(X_train_scaled[0, 0, :])\n",
    "print(X_test_scaled[0, 0, :])"
   ]
  },
  {
   "cell_type": "code",
   "execution_count": 296,
   "id": "4269be15",
   "metadata": {},
   "outputs": [
    {
     "name": "stdout",
     "output_type": "stream",
     "text": [
      "[-0.177474   -0.18255847 -0.17899934 ... -0.24535163 -0.25628323\n",
      " -0.27560421]\n",
      "[-0.29339984 -0.30153499 -0.30204343 ... -0.07197132 -0.06790374\n",
      " -0.06815797]\n"
     ]
    }
   ],
   "source": [
    "y_train_scaled = preprocess_output(y_train, means[-1], stds[-1])\n",
    "y_test_scaled = preprocess_output(y_test, means[-1], stds[-1])\n",
    "print(y_train_scaled)\n",
    "print(y_test_scaled)"
   ]
  },
  {
   "cell_type": "code",
   "execution_count": 297,
   "id": "1fc3e52f",
   "metadata": {},
   "outputs": [
    {
     "name": "stdout",
     "output_type": "stream",
     "text": [
      "Model: \"sequential_9\"\n",
      "_________________________________________________________________\n",
      " Layer (type)                Output Shape              Param #   \n",
      "=================================================================\n",
      " lstm_9 (LSTM)               (None, 128)               73216     \n",
      "                                                                 \n",
      " dense_18 (Dense)            (None, 64)                8256      \n",
      "                                                                 \n",
      " dense_19 (Dense)            (None, 1)                 65        \n",
      "                                                                 \n",
      "=================================================================\n",
      "Total params: 81,537\n",
      "Trainable params: 81,537\n",
      "Non-trainable params: 0\n",
      "_________________________________________________________________\n"
     ]
    }
   ],
   "source": [
    "model = Sequential()\n",
    "model.add(InputLayer((X.shape[1], X.shape[2])))\n",
    "model.add(LSTM(128))\n",
    "model.add(Dense(64, 'relu'))\n",
    "model.add(Dense(1, 'linear'))\n",
    "# kernel_regularizer=l2(0.01), bias_regularizer=l2(0.01)\n",
    "model.summary()"
   ]
  },
  {
   "cell_type": "code",
   "execution_count": 298,
   "id": "e60f418d",
   "metadata": {},
   "outputs": [],
   "source": [
    "cp = ModelCheckpoint('model/', save_best_only=True)\n",
    "es = EarlyStopping(patience=5, monitor='val_loss', mode='min', restore_best_weights=True, verbose=1)\n",
    "model.compile(loss=MeanSquaredError(), optimizer=Adam(learning_rate=0.001), metrics=[RootMeanSquaredError()])"
   ]
  },
  {
   "cell_type": "code",
   "execution_count": 299,
   "id": "62a5c605",
   "metadata": {},
   "outputs": [
    {
     "name": "stdout",
     "output_type": "stream",
     "text": [
      "Epoch 1/20\n",
      "4407/4408 [============================>.] - ETA: 0s - loss: 0.0837 - root_mean_squared_error: 0.2893"
     ]
    },
    {
     "name": "stderr",
     "output_type": "stream",
     "text": [
      "WARNING:absl:Found untraced functions such as lstm_cell_18_layer_call_fn, lstm_cell_18_layer_call_and_return_conditional_losses while saving (showing 2 of 2). These functions will not be directly callable after loading.\n"
     ]
    },
    {
     "name": "stdout",
     "output_type": "stream",
     "text": [
      "INFO:tensorflow:Assets written to: model\\assets\n"
     ]
    },
    {
     "name": "stderr",
     "output_type": "stream",
     "text": [
      "INFO:tensorflow:Assets written to: model\\assets\n"
     ]
    },
    {
     "name": "stdout",
     "output_type": "stream",
     "text": [
      "4408/4408 [==============================] - 101s 23ms/step - loss: 0.0837 - root_mean_squared_error: 0.2893 - val_loss: 0.0496 - val_root_mean_squared_error: 0.2226\n",
      "Epoch 2/20\n",
      "4405/4408 [============================>.] - ETA: 0s - loss: 0.0654 - root_mean_squared_error: 0.2557"
     ]
    },
    {
     "name": "stderr",
     "output_type": "stream",
     "text": [
      "WARNING:absl:Found untraced functions such as lstm_cell_18_layer_call_fn, lstm_cell_18_layer_call_and_return_conditional_losses while saving (showing 2 of 2). These functions will not be directly callable after loading.\n"
     ]
    },
    {
     "name": "stdout",
     "output_type": "stream",
     "text": [
      "INFO:tensorflow:Assets written to: model\\assets\n"
     ]
    },
    {
     "name": "stderr",
     "output_type": "stream",
     "text": [
      "INFO:tensorflow:Assets written to: model\\assets\n"
     ]
    },
    {
     "name": "stdout",
     "output_type": "stream",
     "text": [
      "4408/4408 [==============================] - 96s 22ms/step - loss: 0.0653 - root_mean_squared_error: 0.2556 - val_loss: 0.0206 - val_root_mean_squared_error: 0.1434\n",
      "Epoch 3/20\n",
      "4408/4408 [==============================] - ETA: 0s - loss: 0.0615 - root_mean_squared_error: 0.2479"
     ]
    },
    {
     "name": "stderr",
     "output_type": "stream",
     "text": [
      "WARNING:absl:Found untraced functions such as lstm_cell_18_layer_call_fn, lstm_cell_18_layer_call_and_return_conditional_losses while saving (showing 2 of 2). These functions will not be directly callable after loading.\n"
     ]
    },
    {
     "name": "stdout",
     "output_type": "stream",
     "text": [
      "INFO:tensorflow:Assets written to: model\\assets\n"
     ]
    },
    {
     "name": "stderr",
     "output_type": "stream",
     "text": [
      "INFO:tensorflow:Assets written to: model\\assets\n"
     ]
    },
    {
     "name": "stdout",
     "output_type": "stream",
     "text": [
      "4408/4408 [==============================] - 85s 19ms/step - loss: 0.0615 - root_mean_squared_error: 0.2479 - val_loss: 0.0108 - val_root_mean_squared_error: 0.1040\n",
      "Epoch 4/20\n",
      "4408/4408 [==============================] - 94s 21ms/step - loss: 0.0587 - root_mean_squared_error: 0.2423 - val_loss: 0.0122 - val_root_mean_squared_error: 0.1104\n",
      "Epoch 5/20\n",
      "4408/4408 [==============================] - 98s 22ms/step - loss: 0.0574 - root_mean_squared_error: 0.2395 - val_loss: 0.0187 - val_root_mean_squared_error: 0.1369\n",
      "Epoch 6/20\n",
      "4408/4408 [==============================] - 96s 22ms/step - loss: 0.0543 - root_mean_squared_error: 0.2330 - val_loss: 0.0136 - val_root_mean_squared_error: 0.1167\n",
      "Epoch 7/20\n",
      "4408/4408 [==============================] - ETA: 0s - loss: 0.0520 - root_mean_squared_error: 0.2280"
     ]
    },
    {
     "name": "stderr",
     "output_type": "stream",
     "text": [
      "WARNING:absl:Found untraced functions such as lstm_cell_18_layer_call_fn, lstm_cell_18_layer_call_and_return_conditional_losses while saving (showing 2 of 2). These functions will not be directly callable after loading.\n"
     ]
    },
    {
     "name": "stdout",
     "output_type": "stream",
     "text": [
      "INFO:tensorflow:Assets written to: model\\assets\n"
     ]
    },
    {
     "name": "stderr",
     "output_type": "stream",
     "text": [
      "INFO:tensorflow:Assets written to: model\\assets\n"
     ]
    },
    {
     "name": "stdout",
     "output_type": "stream",
     "text": [
      "4408/4408 [==============================] - 101s 23ms/step - loss: 0.0520 - root_mean_squared_error: 0.2280 - val_loss: 0.0095 - val_root_mean_squared_error: 0.0975\n",
      "Epoch 8/20\n",
      "4408/4408 [==============================] - ETA: 0s - loss: 0.0504 - root_mean_squared_error: 0.2245"
     ]
    },
    {
     "name": "stderr",
     "output_type": "stream",
     "text": [
      "WARNING:absl:Found untraced functions such as lstm_cell_18_layer_call_fn, lstm_cell_18_layer_call_and_return_conditional_losses while saving (showing 2 of 2). These functions will not be directly callable after loading.\n"
     ]
    },
    {
     "name": "stdout",
     "output_type": "stream",
     "text": [
      "INFO:tensorflow:Assets written to: model\\assets\n"
     ]
    },
    {
     "name": "stderr",
     "output_type": "stream",
     "text": [
      "INFO:tensorflow:Assets written to: model\\assets\n"
     ]
    },
    {
     "name": "stdout",
     "output_type": "stream",
     "text": [
      "4408/4408 [==============================] - 107s 24ms/step - loss: 0.0504 - root_mean_squared_error: 0.2245 - val_loss: 0.0055 - val_root_mean_squared_error: 0.0745\n",
      "Epoch 9/20\n",
      "4408/4408 [==============================] - 119s 27ms/step - loss: 0.0468 - root_mean_squared_error: 0.2163 - val_loss: 0.0073 - val_root_mean_squared_error: 0.0856\n",
      "Epoch 10/20\n",
      "4408/4408 [==============================] - ETA: 0s - loss: 0.0434 - root_mean_squared_error: 0.2084"
     ]
    },
    {
     "name": "stderr",
     "output_type": "stream",
     "text": [
      "WARNING:absl:Found untraced functions such as lstm_cell_18_layer_call_fn, lstm_cell_18_layer_call_and_return_conditional_losses while saving (showing 2 of 2). These functions will not be directly callable after loading.\n"
     ]
    },
    {
     "name": "stdout",
     "output_type": "stream",
     "text": [
      "INFO:tensorflow:Assets written to: model\\assets\n"
     ]
    },
    {
     "name": "stderr",
     "output_type": "stream",
     "text": [
      "INFO:tensorflow:Assets written to: model\\assets\n"
     ]
    },
    {
     "name": "stdout",
     "output_type": "stream",
     "text": [
      "4408/4408 [==============================] - 103s 23ms/step - loss: 0.0434 - root_mean_squared_error: 0.2084 - val_loss: 0.0049 - val_root_mean_squared_error: 0.0702\n",
      "Epoch 11/20\n",
      "4408/4408 [==============================] - 102s 23ms/step - loss: 0.0414 - root_mean_squared_error: 0.2034 - val_loss: 0.0056 - val_root_mean_squared_error: 0.0748\n",
      "Epoch 12/20\n",
      "4408/4408 [==============================] - 102s 23ms/step - loss: 0.0411 - root_mean_squared_error: 0.2027 - val_loss: 0.0062 - val_root_mean_squared_error: 0.0786\n",
      "Epoch 13/20\n",
      "4408/4408 [==============================] - 107s 24ms/step - loss: 0.0397 - root_mean_squared_error: 0.1993 - val_loss: 0.0061 - val_root_mean_squared_error: 0.0778\n",
      "Epoch 14/20\n",
      "4408/4408 [==============================] - 98s 22ms/step - loss: 0.0398 - root_mean_squared_error: 0.1996 - val_loss: 0.0082 - val_root_mean_squared_error: 0.0903\n",
      "Epoch 15/20\n",
      "4408/4408 [==============================] - 115s 26ms/step - loss: 0.0410 - root_mean_squared_error: 0.2024 - val_loss: 0.0079 - val_root_mean_squared_error: 0.0886\n",
      "Epoch 16/20\n",
      "4408/4408 [==============================] - 103s 23ms/step - loss: 0.0405 - root_mean_squared_error: 0.2013 - val_loss: 0.0066 - val_root_mean_squared_error: 0.0813\n",
      "Epoch 17/20\n",
      "4408/4408 [==============================] - 102s 23ms/step - loss: 0.0400 - root_mean_squared_error: 0.2000 - val_loss: 0.0118 - val_root_mean_squared_error: 0.1086\n",
      "Epoch 18/20\n",
      "4408/4408 [==============================] - 99s 22ms/step - loss: 0.0390 - root_mean_squared_error: 0.1975 - val_loss: 0.0096 - val_root_mean_squared_error: 0.0980\n",
      "Epoch 19/20\n",
      "4408/4408 [==============================] - 101s 23ms/step - loss: 0.0416 - root_mean_squared_error: 0.2040 - val_loss: 0.0076 - val_root_mean_squared_error: 0.0872\n",
      "Epoch 20/20\n",
      "4408/4408 [==============================] - 105s 24ms/step - loss: 0.0395 - root_mean_squared_error: 0.1988 - val_loss: 0.0083 - val_root_mean_squared_error: 0.0910\n"
     ]
    }
   ],
   "source": [
    "history = model.fit(X_train_scaled, y_train_scaled, validation_split=0.33, epochs=20, callbacks=[cp, es], shuffle=False)"
   ]
  },
  {
   "cell_type": "code",
   "execution_count": 300,
   "id": "0fb2db3f",
   "metadata": {},
   "outputs": [],
   "source": [
    "from tensorflow.keras.models import load_model\n",
    "model = load_model('model/')"
   ]
  },
  {
   "cell_type": "code",
   "execution_count": 301,
   "id": "46373388",
   "metadata": {},
   "outputs": [],
   "source": [
    "def plot(history):\n",
    "    # summarize history for loss\n",
    "    fig, ax = plt.subplots(1, 2, figsize=(15, 6))\n",
    "    losses = [('loss', 'val_loss'), ('root_mean_squared_error', 'val_root_mean_squared_error')]\n",
    "    for i in range(2):\n",
    "        ax[i].plot(history.history[losses[i][0]])\n",
    "        ax[i].plot(history.history[losses[i][1]])\n",
    "        ax[i].set_title('Loss - '+losses[i][0])\n",
    "        ax[i].set_ylabel('loss')\n",
    "        ax[i].set_xlabel('epoch')\n",
    "    plt.legend(['train', 'validation'], loc='upper right')\n",
    "    plt.show()"
   ]
  },
  {
   "cell_type": "code",
   "execution_count": 302,
   "id": "5f7d9552",
   "metadata": {},
   "outputs": [
    {
     "data": {
      "image/png": "[encoded data removed]",
      "text/plain": [
       "<Figure size 1080x432 with 2 Axes>"
      ]
     },
     "metadata": {},
     "output_type": "display_data"
    }
   ],
   "source": [
    "plot(history)"
   ]
  },
  {
   "cell_type": "code",
   "execution_count": 303,
   "id": "8e5d5880",
   "metadata": {},
   "outputs": [
    {
     "name": "stdout",
     "output_type": "stream",
     "text": [
      "6579/6579 [==============================] - 42s 6ms/step\n"
     ]
    },
    {
     "data": {
      "text/html": [
       "<div>\n",
       "<style scoped>\n",
       "    .dataframe tbody tr th:only-of-type {\n",
       "        vertical-align: middle;\n",
       "    }\n",
       "\n",
       "    .dataframe tbody tr th {\n",
       "        vertical-align: top;\n",
       "    }\n",
       "\n",
       "    .dataframe thead th {\n",
       "        text-align: right;\n",
       "    }\n",
       "</style>\n",
       "<table border=\"1\" class=\"dataframe\">\n",
       "  <thead>\n",
       "    <tr style=\"text-align: right;\">\n",
       "      <th></th>\n",
       "      <th>Train Predictions</th>\n",
       "      <th>Actuals</th>\n",
       "    </tr>\n",
       "  </thead>\n",
       "  <tbody>\n",
       "    <tr>\n",
       "      <th>0</th>\n",
       "      <td>2000.283813</td>\n",
       "      <td>2196.060568</td>\n",
       "    </tr>\n",
       "    <tr>\n",
       "      <th>1</th>\n",
       "      <td>2266.910156</td>\n",
       "      <td>2146.283117</td>\n",
       "    </tr>\n",
       "    <tr>\n",
       "      <th>2</th>\n",
       "      <td>2180.592773</td>\n",
       "      <td>2181.127333</td>\n",
       "    </tr>\n",
       "    <tr>\n",
       "      <th>3</th>\n",
       "      <td>2161.048340</td>\n",
       "      <td>2166.194097</td>\n",
       "    </tr>\n",
       "    <tr>\n",
       "      <th>4</th>\n",
       "      <td>2210.660156</td>\n",
       "      <td>2101.483411</td>\n",
       "    </tr>\n",
       "    <tr>\n",
       "      <th>...</th>\n",
       "      <td>...</td>\n",
       "      <td>...</td>\n",
       "    </tr>\n",
       "    <tr>\n",
       "      <th>210522</th>\n",
       "      <td>2084.960449</td>\n",
       "      <td>1944.684442</td>\n",
       "    </tr>\n",
       "    <tr>\n",
       "      <th>210523</th>\n",
       "      <td>1845.229980</td>\n",
       "      <td>1698.286061</td>\n",
       "    </tr>\n",
       "    <tr>\n",
       "      <th>210524</th>\n",
       "      <td>1487.863770</td>\n",
       "      <td>1531.531601</td>\n",
       "    </tr>\n",
       "    <tr>\n",
       "      <th>210525</th>\n",
       "      <td>1379.114502</td>\n",
       "      <td>1424.510082</td>\n",
       "    </tr>\n",
       "    <tr>\n",
       "      <th>210526</th>\n",
       "      <td>1268.690918</td>\n",
       "      <td>1235.355769</td>\n",
       "    </tr>\n",
       "  </tbody>\n",
       "</table>\n",
       "<p>210527 rows × 2 columns</p>\n",
       "</div>"
      ],
      "text/plain": [
       "        Train Predictions      Actuals\n",
       "0             2000.283813  2196.060568\n",
       "1             2266.910156  2146.283117\n",
       "2             2180.592773  2181.127333\n",
       "3             2161.048340  2166.194097\n",
       "4             2210.660156  2101.483411\n",
       "...                   ...          ...\n",
       "210522        2084.960449  1944.684442\n",
       "210523        1845.229980  1698.286061\n",
       "210524        1487.863770  1531.531601\n",
       "210525        1379.114502  1424.510082\n",
       "210526        1268.690918  1235.355769\n",
       "\n",
       "[210527 rows x 2 columns]"
      ]
     },
     "execution_count": 303,
     "metadata": {},
     "output_type": "execute_result"
    }
   ],
   "source": [
    "train_predictions = model.predict(X_train_scaled).flatten()\n",
    "X_original = (train_predictions*means[-1]) + stds[-1]\n",
    "y_original = (y_train * means[-1]) + stds[-1]\n",
    "train_results = pd.DataFrame(data={'Train Predictions':X_original, 'Actuals':y_original})\n",
    "train_results"
   ]
  },
  {
   "cell_type": "code",
   "execution_count": 315,
   "id": "a7cd474d",
   "metadata": {},
   "outputs": [
    {
     "data": {
      "image/png": "[encoded data removed]",
      "text/plain": [
       "<Figure size 432x288 with 1 Axes>"
      ]
     },
     "metadata": {},
     "output_type": "display_data"
    }
   ],
   "source": [
    "plt.plot(original_train_results['Train Predictions'][:5000], label='Predict')\n",
    "plt.plot(original_train_results['Actuals'][:5000], label='Label')\n",
    "plt.legend()\n",
    "plt.show()"
   ]
  },
  {
   "cell_type": "code",
   "execution_count": 316,
   "id": "c7b2b609",
   "metadata": {},
   "outputs": [
    {
     "name": "stdout",
     "output_type": "stream",
     "text": [
      "3285/3285 [==============================] - 23s 7ms/step\n"
     ]
    },
    {
     "data": {
      "text/html": [
       "<div>\n",
       "<style scoped>\n",
       "    .dataframe tbody tr th:only-of-type {\n",
       "        vertical-align: middle;\n",
       "    }\n",
       "\n",
       "    .dataframe tbody tr th {\n",
       "        vertical-align: top;\n",
       "    }\n",
       "\n",
       "    .dataframe thead th {\n",
       "        text-align: right;\n",
       "    }\n",
       "</style>\n",
       "<table border=\"1\" class=\"dataframe\">\n",
       "  <thead>\n",
       "    <tr style=\"text-align: right;\">\n",
       "      <th></th>\n",
       "      <th>Test Predictions</th>\n",
       "      <th>Actuals</th>\n",
       "    </tr>\n",
       "  </thead>\n",
       "  <tbody>\n",
       "    <tr>\n",
       "      <th>0</th>\n",
       "      <td>1145.782227</td>\n",
       "      <td>1061.134692</td>\n",
       "    </tr>\n",
       "    <tr>\n",
       "      <th>1</th>\n",
       "      <td>988.545410</td>\n",
       "      <td>981.490771</td>\n",
       "    </tr>\n",
       "    <tr>\n",
       "      <th>2</th>\n",
       "      <td>968.621338</td>\n",
       "      <td>976.513026</td>\n",
       "    </tr>\n",
       "    <tr>\n",
       "      <th>3</th>\n",
       "      <td>1016.945068</td>\n",
       "      <td>951.624300</td>\n",
       "    </tr>\n",
       "    <tr>\n",
       "      <th>4</th>\n",
       "      <td>982.032715</td>\n",
       "      <td>819.714056</td>\n",
       "    </tr>\n",
       "    <tr>\n",
       "      <th>...</th>\n",
       "      <td>...</td>\n",
       "      <td>...</td>\n",
       "    </tr>\n",
       "    <tr>\n",
       "      <th>105104</th>\n",
       "      <td>3529.370850</td>\n",
       "      <td>3388.230512</td>\n",
       "    </tr>\n",
       "    <tr>\n",
       "      <th>105105</th>\n",
       "      <td>3465.272949</td>\n",
       "      <td>3286.186738</td>\n",
       "    </tr>\n",
       "    <tr>\n",
       "      <th>105106</th>\n",
       "      <td>3217.234863</td>\n",
       "      <td>3228.942670</td>\n",
       "    </tr>\n",
       "    <tr>\n",
       "      <th>105107</th>\n",
       "      <td>3065.325684</td>\n",
       "      <td>3268.764630</td>\n",
       "    </tr>\n",
       "    <tr>\n",
       "      <th>105108</th>\n",
       "      <td>2932.719482</td>\n",
       "      <td>3266.275758</td>\n",
       "    </tr>\n",
       "  </tbody>\n",
       "</table>\n",
       "<p>105109 rows × 2 columns</p>\n",
       "</div>"
      ],
      "text/plain": [
       "        Test Predictions      Actuals\n",
       "0            1145.782227  1061.134692\n",
       "1             988.545410   981.490771\n",
       "2             968.621338   976.513026\n",
       "3            1016.945068   951.624300\n",
       "4             982.032715   819.714056\n",
       "...                  ...          ...\n",
       "105104       3529.370850  3388.230512\n",
       "105105       3465.272949  3286.186738\n",
       "105106       3217.234863  3228.942670\n",
       "105107       3065.325684  3268.764630\n",
       "105108       2932.719482  3266.275758\n",
       "\n",
       "[105109 rows x 2 columns]"
      ]
     },
     "execution_count": 316,
     "metadata": {},
     "output_type": "execute_result"
    }
   ],
   "source": [
    "test_predictions = model.predict(X_test_scaled).flatten()\n",
    "X_original_test = (test_predictions*means[-1]) + stds[-1]\n",
    "y_original_test = (y_test * means[-1]) + stds[-1]\n",
    "test_results = pd.DataFrame(data={'Test Predictions':X_original_test, 'Actuals':y_original_test})\n",
    "test_results"
   ]
  },
  {
   "cell_type": "code",
   "execution_count": 317,
   "id": "a4e6f530",
   "metadata": {},
   "outputs": [
    {
     "data": {
      "image/png": "[encoded data removed]",
      "text/plain": [
       "<Figure size 432x288 with 1 Axes>"
      ]
     },
     "metadata": {},
     "output_type": "display_data"
    }
   ],
   "source": [
    "plt.plot(test_results['Test Predictions'][:2000], label='Predict')\n",
    "plt.plot(test_results['Actuals'][:2000], label='Label')\n",
    "plt.legend()\n",
    "plt.show()"
   ]
  },
  {
   "cell_type": "code",
   "execution_count": null,
   "id": "3ad3da7a",
   "metadata": {},
   "outputs": [],
   "source": []
  }
 ],
 "metadata": {
  "kernelspec": {
   "display_name": "Python 3 (ipykernel)",
   "language": "python",
   "name": "python3"
  },
  "language_info": {
   "codemirror_mode": {
    "name": "ipython",
    "version": 3
   },
   "file_extension": ".py",
   "mimetype": "text/x-python",
   "name": "python",
   "nbconvert_exporter": "python",
   "pygments_lexer": "ipython3",
   "version": "3.10.4"
  }
 },
 "nbformat": 4,
 "nbformat_minor": 5
}
