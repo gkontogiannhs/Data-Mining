{
 "cells": [
  {
   "cell_type": "code",
   "execution_count": 491,
   "id": "99c9afa1",
   "metadata": {},
   "outputs": [],
   "source": [
    "import pandas as pd\n",
    "from matplotlib import pyplot\n",
    "import seaborn as sns; sns.set_theme()\n",
    "import os\n",
    "import glob\n",
    "\n",
    "def get_files(fn):\n",
    "    home = os.path.expanduser('~')\n",
    "    path = f'{home}/Downloads/project_mining_2022/dataset/'\n",
    "    files = glob.glob(path + fn + '/*.csv')\n",
    "    return files\n",
    "\n",
    "\n",
    "def to_date(char):\n",
    "    return char[:4] + '-' + char[4:6] + '-' + char[6:8]\n",
    "\n",
    "# for each file create a pandas df\n",
    "# concatenate them all together\n",
    "# change index to datetime\n",
    "def parse_file(files, filenames):\n",
    "    list_of_pandas = []\n",
    "    for i, f in enumerate(files):\n",
    "        # if file empty\n",
    "        if os.stat(f).st_size != 0:\n",
    "            # create df\n",
    "            temp = pd.read_csv(f, header=0, nrows=288, skip_blank_lines=False)\n",
    "            # create date column\n",
    "            temp['Date'] = [to_date(filenames[i]) for _ in range(288)]\n",
    "            # append df \n",
    "            list_of_pandas += [temp]\n",
    "    # cast all together\n",
    "    df = pd.concat(list_of_pandas, ignore_index=True)\n",
    "    df.index = pd.to_datetime(df['Date'] + ' ' + df['Time'], format='%Y-%m-%d %H:%M:%S')\n",
    "    df.drop(columns=['Date', 'Time'], inplace=True)\n",
    "    return df"
   ]
  },
  {
   "cell_type": "code",
   "execution_count": 439,
   "id": "bb4f5ae4",
   "metadata": {},
   "outputs": [],
   "source": [
    "# list files\n",
    "demand_files = get_files('demand')\n",
    "\n",
    "# list filenames to use on timestamps\n",
    "filenames = [file[-12: -4] for file in demand_files]\n",
    "\n",
    "# get data from files\n",
    "demands = parse_file(demand_files, filenames)"
   ]
  },
  {
   "cell_type": "code",
   "execution_count": 440,
   "id": "438871f4",
   "metadata": {},
   "outputs": [],
   "source": [
    "# interpolate\n",
    "demands.interpolate(method='linear', axis=0, inplace=True)"
   ]
  },
  {
   "cell_type": "code",
   "execution_count": 441,
   "id": "aa6c96b3",
   "metadata": {},
   "outputs": [
    {
     "data": {
      "text/html": [
       "<div>\n",
       "<style scoped>\n",
       "    .dataframe tbody tr th:only-of-type {\n",
       "        vertical-align: middle;\n",
       "    }\n",
       "\n",
       "    .dataframe tbody tr th {\n",
       "        vertical-align: top;\n",
       "    }\n",
       "\n",
       "    .dataframe thead th {\n",
       "        text-align: right;\n",
       "    }\n",
       "</style>\n",
       "<table border=\"1\" class=\"dataframe\">\n",
       "  <thead>\n",
       "    <tr style=\"text-align: right;\">\n",
       "      <th></th>\n",
       "      <th>Day ahead forecast</th>\n",
       "      <th>Hour ahead forecast</th>\n",
       "      <th>Current demand</th>\n",
       "    </tr>\n",
       "  </thead>\n",
       "  <tbody>\n",
       "    <tr>\n",
       "      <th>2019-01-01 00:00:00</th>\n",
       "      <td>23437.0</td>\n",
       "      <td>22290.0</td>\n",
       "      <td>22216.0</td>\n",
       "    </tr>\n",
       "    <tr>\n",
       "      <th>2019-01-01 00:05:00</th>\n",
       "      <td>22363.0</td>\n",
       "      <td>22089.0</td>\n",
       "      <td>22106.0</td>\n",
       "    </tr>\n",
       "    <tr>\n",
       "      <th>2019-01-01 00:10:00</th>\n",
       "      <td>22363.0</td>\n",
       "      <td>22089.0</td>\n",
       "      <td>22130.0</td>\n",
       "    </tr>\n",
       "    <tr>\n",
       "      <th>2019-01-01 00:15:00</th>\n",
       "      <td>22363.0</td>\n",
       "      <td>22089.0</td>\n",
       "      <td>22040.0</td>\n",
       "    </tr>\n",
       "    <tr>\n",
       "      <th>2019-01-01 00:20:00</th>\n",
       "      <td>22363.0</td>\n",
       "      <td>21867.0</td>\n",
       "      <td>21963.0</td>\n",
       "    </tr>\n",
       "  </tbody>\n",
       "</table>\n",
       "</div>"
      ],
      "text/plain": [
       "                     Day ahead forecast  Hour ahead forecast  Current demand\n",
       "2019-01-01 00:00:00             23437.0              22290.0         22216.0\n",
       "2019-01-01 00:05:00             22363.0              22089.0         22106.0\n",
       "2019-01-01 00:10:00             22363.0              22089.0         22130.0\n",
       "2019-01-01 00:15:00             22363.0              22089.0         22040.0\n",
       "2019-01-01 00:20:00             22363.0              21867.0         21963.0"
      ]
     },
     "execution_count": 441,
     "metadata": {},
     "output_type": "execute_result"
    }
   ],
   "source": [
    "demands.head()"
   ]
  },
  {
   "cell_type": "code",
   "execution_count": 442,
   "id": "20e1b2d8",
   "metadata": {},
   "outputs": [],
   "source": [
    "import numpy as  np\n",
    "# (demands.shape[0], window_size, number_of_vars)\n",
    "# [[[1], [2], [3], [4], [5]]] [6]\n",
    "# [[[2], [3], [4], [5], [6]]] [7]\n",
    "# [[[3], [4], [5], [6], [7]]] [8]\n",
    "def df_to_tensor(data, window_size=5):\n",
    "    # data = df.to_numpy()\n",
    "    X = []\n",
    "    y = []\n",
    "    for i in range(len(data)-window_size):\n",
    "        row = [a for a in data[i:i+window_size]]\n",
    "        label = data[i+window_size][0]\n",
    "        X.append(row)\n",
    "        y.append(label)\n",
    "    return np.array(X), np.array(y)"
   ]
  },
  {
   "cell_type": "code",
   "execution_count": 479,
   "id": "3c3757bd",
   "metadata": {},
   "outputs": [
    {
     "name": "stdout",
     "output_type": "stream",
     "text": [
      "[[21937.]\n",
      " [20992.]\n",
      " [20183.]\n",
      " [19713.]\n",
      " [19513.]\n",
      " [19665.]\n",
      " [20237.]\n",
      " [20831.]\n",
      " [20474.]\n",
      " [19562.]]\n",
      "[[-0.53066612]\n",
      " [-0.69060257]\n",
      " [-0.83620413]\n",
      " [-0.92712832]\n",
      " [-0.97320476]\n",
      " [-0.93368141]\n",
      " [-0.80548651]]\n"
     ]
    }
   ],
   "source": [
    "from sklearn.preprocessing import MinMaxScaler\n",
    "hours = demands[0::12]\n",
    "values_to_scale = hours['Current demand'].values.reshape(-1, 1)\n",
    "print(values_to_scale[17544:17554])\n",
    "scaler = StandardScaler()\n",
    "scaled = scaler.fit_transform(values_to_scale)\n",
    "print(scaled[:7])"
   ]
  },
  {
   "cell_type": "code",
   "execution_count": 444,
   "id": "673d8284",
   "metadata": {},
   "outputs": [
    {
     "data": {
      "text/plain": [
       "((26299, 5, 1), (26299,))"
      ]
     },
     "execution_count": 444,
     "metadata": {},
     "output_type": "execute_result"
    }
   ],
   "source": [
    "WINDOW_SIZE = 5\n",
    "X, y = df_to_tensor(scaled, WINDOW_SIZE)\n",
    "X.shape, y.shape"
   ]
  },
  {
   "cell_type": "code",
   "execution_count": 445,
   "id": "9ac44efe",
   "metadata": {},
   "outputs": [
    {
     "data": {
      "text/plain": [
       "array([[[-0.53066612],\n",
       "        [-0.69060257],\n",
       "        [-0.83620413],\n",
       "        [-0.92712832],\n",
       "        [-0.97320476]],\n",
       "\n",
       "       [[-0.69060257],\n",
       "        [-0.83620413],\n",
       "        [-0.92712832],\n",
       "        [-0.97320476],\n",
       "        [-0.93368141]]])"
      ]
     },
     "execution_count": 445,
     "metadata": {},
     "output_type": "execute_result"
    }
   ],
   "source": [
    "X[:2]"
   ]
  },
  {
   "cell_type": "code",
   "execution_count": 446,
   "id": "303de8d7",
   "metadata": {},
   "outputs": [
    {
     "data": {
      "text/plain": [
       "array([-0.93368141, -0.80548651])"
      ]
     },
     "execution_count": 446,
     "metadata": {},
     "output_type": "execute_result"
    }
   ],
   "source": [
    "y[:2]"
   ]
  },
  {
   "cell_type": "code",
   "execution_count": 447,
   "id": "e7b4bf3a",
   "metadata": {},
   "outputs": [],
   "source": [
    "# 2 full years per hour data\n",
    "X_train, y_train = X[:17544], y[:17544]\n",
    "X_test, y_test = X[17544:25000], y[17544:25000]\n",
    "X_val, y_val = X[25000:], y[25000:]"
   ]
  },
  {
   "cell_type": "code",
   "execution_count": 448,
   "id": "e221456c",
   "metadata": {},
   "outputs": [
    {
     "data": {
      "text/plain": [
       "((17544, 5, 1), (17544,), (7456, 5, 1), (7456,), (1299, 5, 1), (1299,))"
      ]
     },
     "execution_count": 448,
     "metadata": {},
     "output_type": "execute_result"
    }
   ],
   "source": [
    "X_train.shape, y_train.shape, X_test.shape, y_test.shape, X_val.shape, y_val.shape"
   ]
  },
  {
   "cell_type": "code",
   "execution_count": 449,
   "id": "7880efb5",
   "metadata": {},
   "outputs": [],
   "source": [
    "from tensorflow.keras.models import Sequential\n",
    "from tensorflow.keras.layers import LSTM, Dense\n",
    "from tensorflow.keras.callbacks import ModelCheckpoint\n",
    "from tensorflow.keras.losses import MeanSquaredError\n",
    "from tensorflow.keras.metrics import RootMeanSquaredError\n",
    "from tensorflow.keras.optimizers import Adam"
   ]
  },
  {
   "cell_type": "code",
   "execution_count": 450,
   "id": "1fc3e52f",
   "metadata": {},
   "outputs": [
    {
     "name": "stdout",
     "output_type": "stream",
     "text": [
      "Model: \"sequential_18\"\n",
      "_________________________________________________________________\n",
      " Layer (type)                Output Shape              Param #   \n",
      "=================================================================\n",
      " lstm_17 (LSTM)              (None, 64)                16896     \n",
      "                                                                 \n",
      " dense_34 (Dense)            (None, 16)                1040      \n",
      "                                                                 \n",
      " dense_35 (Dense)            (None, 1)                 17        \n",
      "                                                                 \n",
      "=================================================================\n",
      "Total params: 17,953\n",
      "Trainable params: 17,953\n",
      "Non-trainable params: 0\n",
      "_________________________________________________________________\n"
     ]
    }
   ],
   "source": [
    "model = Sequential()\n",
    "model.add(InputLayer((5, 1)))\n",
    "model.add(LSTM(64))\n",
    "model.add(Dense(16, 'relu'))\n",
    "model.add(Dense(1, 'linear'))\n",
    "\n",
    "model.summary()"
   ]
  },
  {
   "cell_type": "code",
   "execution_count": 451,
   "id": "e60f418d",
   "metadata": {},
   "outputs": [],
   "source": [
    "cp = ModelCheckpoint('model/', save_best_only=True)\n",
    "model.compile(loss=MeanSquaredError(), optimizer=Adam(learning_rate=0.001), metrics=[RootMeanSquaredError()])"
   ]
  },
  {
   "cell_type": "code",
   "execution_count": 452,
   "id": "62a5c605",
   "metadata": {},
   "outputs": [
    {
     "name": "stdout",
     "output_type": "stream",
     "text": [
      "Epoch 1/20\n",
      "547/549 [============================>.] - ETA: 0s - loss: 0.0959 - root_mean_squared_error: 0.3098"
     ]
    },
    {
     "name": "stderr",
     "output_type": "stream",
     "text": [
      "WARNING:absl:Found untraced functions such as lstm_cell_23_layer_call_fn, lstm_cell_23_layer_call_and_return_conditional_losses while saving (showing 2 of 2). These functions will not be directly callable after loading.\n"
     ]
    },
    {
     "name": "stdout",
     "output_type": "stream",
     "text": [
      "INFO:tensorflow:Assets written to: model\\assets\n"
     ]
    },
    {
     "name": "stderr",
     "output_type": "stream",
     "text": [
      "INFO:tensorflow:Assets written to: model\\assets\n"
     ]
    },
    {
     "name": "stdout",
     "output_type": "stream",
     "text": [
      "549/549 [==============================] - 8s 13ms/step - loss: 0.0958 - root_mean_squared_error: 0.3095 - val_loss: 0.0120 - val_root_mean_squared_error: 0.1096\n",
      "Epoch 2/20\n",
      "542/549 [============================>.] - ETA: 0s - loss: 0.0117 - root_mean_squared_error: 0.1079"
     ]
    },
    {
     "name": "stderr",
     "output_type": "stream",
     "text": [
      "WARNING:absl:Found untraced functions such as lstm_cell_23_layer_call_fn, lstm_cell_23_layer_call_and_return_conditional_losses while saving (showing 2 of 2). These functions will not be directly callable after loading.\n"
     ]
    },
    {
     "name": "stdout",
     "output_type": "stream",
     "text": [
      "INFO:tensorflow:Assets written to: model\\assets\n"
     ]
    },
    {
     "name": "stderr",
     "output_type": "stream",
     "text": [
      "INFO:tensorflow:Assets written to: model\\assets\n"
     ]
    },
    {
     "name": "stdout",
     "output_type": "stream",
     "text": [
      "549/549 [==============================] - 6s 11ms/step - loss: 0.0116 - root_mean_squared_error: 0.1078 - val_loss: 0.0091 - val_root_mean_squared_error: 0.0953\n",
      "Epoch 3/20\n",
      "547/549 [============================>.] - ETA: 0s - loss: 0.0103 - root_mean_squared_error: 0.1015"
     ]
    },
    {
     "name": "stderr",
     "output_type": "stream",
     "text": [
      "WARNING:absl:Found untraced functions such as lstm_cell_23_layer_call_fn, lstm_cell_23_layer_call_and_return_conditional_losses while saving (showing 2 of 2). These functions will not be directly callable after loading.\n"
     ]
    },
    {
     "name": "stdout",
     "output_type": "stream",
     "text": [
      "INFO:tensorflow:Assets written to: model\\assets\n"
     ]
    },
    {
     "name": "stderr",
     "output_type": "stream",
     "text": [
      "INFO:tensorflow:Assets written to: model\\assets\n"
     ]
    },
    {
     "name": "stdout",
     "output_type": "stream",
     "text": [
      "549/549 [==============================] - 6s 11ms/step - loss: 0.0103 - root_mean_squared_error: 0.1015 - val_loss: 0.0083 - val_root_mean_squared_error: 0.0914\n",
      "Epoch 4/20\n",
      "545/549 [============================>.] - ETA: 0s - loss: 0.0096 - root_mean_squared_error: 0.0981"
     ]
    },
    {
     "name": "stderr",
     "output_type": "stream",
     "text": [
      "WARNING:absl:Found untraced functions such as lstm_cell_23_layer_call_fn, lstm_cell_23_layer_call_and_return_conditional_losses while saving (showing 2 of 2). These functions will not be directly callable after loading.\n"
     ]
    },
    {
     "name": "stdout",
     "output_type": "stream",
     "text": [
      "INFO:tensorflow:Assets written to: model\\assets\n"
     ]
    },
    {
     "name": "stderr",
     "output_type": "stream",
     "text": [
      "INFO:tensorflow:Assets written to: model\\assets\n"
     ]
    },
    {
     "name": "stdout",
     "output_type": "stream",
     "text": [
      "549/549 [==============================] - 6s 11ms/step - loss: 0.0096 - root_mean_squared_error: 0.0980 - val_loss: 0.0078 - val_root_mean_squared_error: 0.0884\n",
      "Epoch 5/20\n",
      "547/549 [============================>.] - ETA: 0s - loss: 0.0093 - root_mean_squared_error: 0.0962"
     ]
    },
    {
     "name": "stderr",
     "output_type": "stream",
     "text": [
      "WARNING:absl:Found untraced functions such as lstm_cell_23_layer_call_fn, lstm_cell_23_layer_call_and_return_conditional_losses while saving (showing 2 of 2). These functions will not be directly callable after loading.\n"
     ]
    },
    {
     "name": "stdout",
     "output_type": "stream",
     "text": [
      "INFO:tensorflow:Assets written to: model\\assets\n"
     ]
    },
    {
     "name": "stderr",
     "output_type": "stream",
     "text": [
      "INFO:tensorflow:Assets written to: model\\assets\n"
     ]
    },
    {
     "name": "stdout",
     "output_type": "stream",
     "text": [
      "549/549 [==============================] - 6s 11ms/step - loss: 0.0092 - root_mean_squared_error: 0.0962 - val_loss: 0.0075 - val_root_mean_squared_error: 0.0863\n",
      "Epoch 6/20\n",
      "549/549 [==============================] - 3s 5ms/step - loss: 0.0091 - root_mean_squared_error: 0.0955 - val_loss: 0.0078 - val_root_mean_squared_error: 0.0885\n",
      "Epoch 7/20\n",
      "549/549 [==============================] - ETA: 0s - loss: 0.0087 - root_mean_squared_error: 0.0934"
     ]
    },
    {
     "name": "stderr",
     "output_type": "stream",
     "text": [
      "WARNING:absl:Found untraced functions such as lstm_cell_23_layer_call_fn, lstm_cell_23_layer_call_and_return_conditional_losses while saving (showing 2 of 2). These functions will not be directly callable after loading.\n"
     ]
    },
    {
     "name": "stdout",
     "output_type": "stream",
     "text": [
      "INFO:tensorflow:Assets written to: model\\assets\n"
     ]
    },
    {
     "name": "stderr",
     "output_type": "stream",
     "text": [
      "INFO:tensorflow:Assets written to: model\\assets\n"
     ]
    },
    {
     "name": "stdout",
     "output_type": "stream",
     "text": [
      "549/549 [==============================] - 6s 11ms/step - loss: 0.0087 - root_mean_squared_error: 0.0934 - val_loss: 0.0073 - val_root_mean_squared_error: 0.0854\n",
      "Epoch 8/20\n",
      "549/549 [==============================] - 3s 5ms/step - loss: 0.0086 - root_mean_squared_error: 0.0926 - val_loss: 0.0074 - val_root_mean_squared_error: 0.0861\n",
      "Epoch 9/20\n",
      "549/549 [==============================] - 3s 5ms/step - loss: 0.0084 - root_mean_squared_error: 0.0917 - val_loss: 0.0077 - val_root_mean_squared_error: 0.0880\n",
      "Epoch 10/20\n",
      "549/549 [==============================] - 3s 6ms/step - loss: 0.0085 - root_mean_squared_error: 0.0924 - val_loss: 0.0074 - val_root_mean_squared_error: 0.0862\n",
      "Epoch 11/20\n",
      "549/549 [==============================] - 3s 5ms/step - loss: 0.0084 - root_mean_squared_error: 0.0919 - val_loss: 0.0077 - val_root_mean_squared_error: 0.0876\n",
      "Epoch 12/20\n",
      "544/549 [============================>.] - ETA: 0s - loss: 0.0081 - root_mean_squared_error: 0.0900"
     ]
    },
    {
     "name": "stderr",
     "output_type": "stream",
     "text": [
      "WARNING:absl:Found untraced functions such as lstm_cell_23_layer_call_fn, lstm_cell_23_layer_call_and_return_conditional_losses while saving (showing 2 of 2). These functions will not be directly callable after loading.\n"
     ]
    },
    {
     "name": "stdout",
     "output_type": "stream",
     "text": [
      "INFO:tensorflow:Assets written to: model\\assets\n"
     ]
    },
    {
     "name": "stderr",
     "output_type": "stream",
     "text": [
      "INFO:tensorflow:Assets written to: model\\assets\n"
     ]
    },
    {
     "name": "stdout",
     "output_type": "stream",
     "text": [
      "549/549 [==============================] - 7s 13ms/step - loss: 0.0081 - root_mean_squared_error: 0.0900 - val_loss: 0.0071 - val_root_mean_squared_error: 0.0845\n",
      "Epoch 13/20\n",
      "549/549 [==============================] - 3s 6ms/step - loss: 0.0080 - root_mean_squared_error: 0.0893 - val_loss: 0.0073 - val_root_mean_squared_error: 0.0852\n",
      "Epoch 14/20\n",
      "543/549 [============================>.] - ETA: 0s - loss: 0.0079 - root_mean_squared_error: 0.0888"
     ]
    },
    {
     "name": "stderr",
     "output_type": "stream",
     "text": [
      "WARNING:absl:Found untraced functions such as lstm_cell_23_layer_call_fn, lstm_cell_23_layer_call_and_return_conditional_losses while saving (showing 2 of 2). These functions will not be directly callable after loading.\n"
     ]
    },
    {
     "name": "stdout",
     "output_type": "stream",
     "text": [
      "INFO:tensorflow:Assets written to: model\\assets\n"
     ]
    },
    {
     "name": "stderr",
     "output_type": "stream",
     "text": [
      "INFO:tensorflow:Assets written to: model\\assets\n"
     ]
    },
    {
     "name": "stdout",
     "output_type": "stream",
     "text": [
      "549/549 [==============================] - 7s 12ms/step - loss: 0.0079 - root_mean_squared_error: 0.0888 - val_loss: 0.0071 - val_root_mean_squared_error: 0.0843\n",
      "Epoch 15/20\n",
      "549/549 [==============================] - 3s 5ms/step - loss: 0.0078 - root_mean_squared_error: 0.0886 - val_loss: 0.0072 - val_root_mean_squared_error: 0.0850\n",
      "Epoch 16/20\n",
      "545/549 [============================>.] - ETA: 0s - loss: 0.0078 - root_mean_squared_error: 0.0882"
     ]
    },
    {
     "name": "stderr",
     "output_type": "stream",
     "text": [
      "WARNING:absl:Found untraced functions such as lstm_cell_23_layer_call_fn, lstm_cell_23_layer_call_and_return_conditional_losses while saving (showing 2 of 2). These functions will not be directly callable after loading.\n"
     ]
    },
    {
     "name": "stdout",
     "output_type": "stream",
     "text": [
      "INFO:tensorflow:Assets written to: model\\assets\n"
     ]
    },
    {
     "name": "stderr",
     "output_type": "stream",
     "text": [
      "INFO:tensorflow:Assets written to: model\\assets\n"
     ]
    },
    {
     "name": "stdout",
     "output_type": "stream",
     "text": [
      "549/549 [==============================] - 7s 12ms/step - loss: 0.0078 - root_mean_squared_error: 0.0882 - val_loss: 0.0068 - val_root_mean_squared_error: 0.0822\n",
      "Epoch 17/20\n",
      "549/549 [==============================] - 3s 5ms/step - loss: 0.0078 - root_mean_squared_error: 0.0881 - val_loss: 0.0071 - val_root_mean_squared_error: 0.0840\n",
      "Epoch 18/20\n",
      "549/549 [==============================] - 3s 5ms/step - loss: 0.0076 - root_mean_squared_error: 0.0874 - val_loss: 0.0070 - val_root_mean_squared_error: 0.0837\n",
      "Epoch 19/20\n",
      "549/549 [==============================] - 3s 6ms/step - loss: 0.0076 - root_mean_squared_error: 0.0870 - val_loss: 0.0072 - val_root_mean_squared_error: 0.0851\n",
      "Epoch 20/20\n",
      "549/549 [==============================] - 3s 6ms/step - loss: 0.0075 - root_mean_squared_error: 0.0868 - val_loss: 0.0074 - val_root_mean_squared_error: 0.0860\n"
     ]
    }
   ],
   "source": [
    "history = model.fit(X_train, y_train, validation_data=(X_val, y_val), epochs=20, callbacks=[cp])"
   ]
  },
  {
   "cell_type": "code",
   "execution_count": 453,
   "id": "0fb2db3f",
   "metadata": {},
   "outputs": [],
   "source": [
    "from tensorflow.keras.models import load_model\n",
    "model = load_model('model/')"
   ]
  },
  {
   "cell_type": "code",
   "execution_count": 454,
   "id": "46373388",
   "metadata": {},
   "outputs": [],
   "source": [
    "def plot(train_loss, validation_loss, label):\n",
    "    # summarize history for loss\n",
    "    plt.plot(train_loss)\n",
    "    plt.plot(validation_loss)\n",
    "    plt.title(label + ' - Loss')\n",
    "    plt.ylabel('loss')\n",
    "    plt.xlabel('epoch')\n",
    "    plt.legend(['train', 'test'], loc='upper left')\n",
    "    plt.show()"
   ]
  },
  {
   "cell_type": "code",
   "execution_count": 455,
   "id": "5f7d9552",
   "metadata": {},
   "outputs": [
    {
     "data": {
      "image/png": "[encoded data removed]",
      "text/plain": [
       "<Figure size 432x288 with 1 Axes>"
      ]
     },
     "metadata": {},
     "output_type": "display_data"
    }
   ],
   "source": [
    "tl, vl = history.history['root_mean_squared_error'], history.history['val_root_mean_squared_error']\n",
    "plot(tl, vl, 'RMSE')"
   ]
  },
  {
   "cell_type": "code",
   "execution_count": 456,
   "id": "8d52d0f4",
   "metadata": {},
   "outputs": [
    {
     "name": "stdout",
     "output_type": "stream",
     "text": [
      "549/549 [==============================] - 2s 3ms/step\n"
     ]
    },
    {
     "data": {
      "text/html": [
       "<div>\n",
       "<style scoped>\n",
       "    .dataframe tbody tr th:only-of-type {\n",
       "        vertical-align: middle;\n",
       "    }\n",
       "\n",
       "    .dataframe tbody tr th {\n",
       "        vertical-align: top;\n",
       "    }\n",
       "\n",
       "    .dataframe thead th {\n",
       "        text-align: right;\n",
       "    }\n",
       "</style>\n",
       "<table border=\"1\" class=\"dataframe\">\n",
       "  <thead>\n",
       "    <tr style=\"text-align: right;\">\n",
       "      <th></th>\n",
       "      <th>Train Predictions</th>\n",
       "      <th>Actuals</th>\n",
       "    </tr>\n",
       "  </thead>\n",
       "  <tbody>\n",
       "    <tr>\n",
       "      <th>0</th>\n",
       "      <td>-0.929823</td>\n",
       "      <td>-0.933681</td>\n",
       "    </tr>\n",
       "    <tr>\n",
       "      <th>1</th>\n",
       "      <td>-0.776282</td>\n",
       "      <td>-0.805487</td>\n",
       "    </tr>\n",
       "    <tr>\n",
       "      <th>2</th>\n",
       "      <td>-0.570790</td>\n",
       "      <td>-0.686916</td>\n",
       "    </tr>\n",
       "    <tr>\n",
       "      <th>3</th>\n",
       "      <td>-0.551429</td>\n",
       "      <td>-0.752243</td>\n",
       "    </tr>\n",
       "    <tr>\n",
       "      <th>4</th>\n",
       "      <td>-0.880133</td>\n",
       "      <td>-0.909722</td>\n",
       "    </tr>\n",
       "    <tr>\n",
       "      <th>...</th>\n",
       "      <td>...</td>\n",
       "      <td>...</td>\n",
       "    </tr>\n",
       "    <tr>\n",
       "      <th>17539</th>\n",
       "      <td>-0.618688</td>\n",
       "      <td>-0.587801</td>\n",
       "    </tr>\n",
       "    <tr>\n",
       "      <th>17540</th>\n",
       "      <td>-0.688627</td>\n",
       "      <td>-0.781322</td>\n",
       "    </tr>\n",
       "    <tr>\n",
       "      <th>17541</th>\n",
       "      <td>-0.907441</td>\n",
       "      <td>-0.946992</td>\n",
       "    </tr>\n",
       "    <tr>\n",
       "      <th>17542</th>\n",
       "      <td>-1.053970</td>\n",
       "      <td>-1.043241</td>\n",
       "    </tr>\n",
       "    <tr>\n",
       "      <th>17543</th>\n",
       "      <td>-1.072119</td>\n",
       "      <td>-1.084198</td>\n",
       "    </tr>\n",
       "  </tbody>\n",
       "</table>\n",
       "<p>17544 rows × 2 columns</p>\n",
       "</div>"
      ],
      "text/plain": [
       "       Train Predictions   Actuals\n",
       "0              -0.929823 -0.933681\n",
       "1              -0.776282 -0.805487\n",
       "2              -0.570790 -0.686916\n",
       "3              -0.551429 -0.752243\n",
       "4              -0.880133 -0.909722\n",
       "...                  ...       ...\n",
       "17539          -0.618688 -0.587801\n",
       "17540          -0.688627 -0.781322\n",
       "17541          -0.907441 -0.946992\n",
       "17542          -1.053970 -1.043241\n",
       "17543          -1.072119 -1.084198\n",
       "\n",
       "[17544 rows x 2 columns]"
      ]
     },
     "execution_count": 456,
     "metadata": {},
     "output_type": "execute_result"
    }
   ],
   "source": [
    "train_predictions = model.predict(X_train).flatten()\n",
    "train_results = pd.DataFrame(data={'Train Predictions':train_predictions, 'Actuals':y_train})\n",
    "train_results"
   ]
  },
  {
   "cell_type": "code",
   "execution_count": 462,
   "id": "6c6575f2",
   "metadata": {},
   "outputs": [
    {
     "data": {
      "image/png": "[encoded data removed]",
      "text/plain": [
       "<Figure size 432x288 with 1 Axes>"
      ]
     },
     "metadata": {},
     "output_type": "display_data"
    }
   ],
   "source": [
    "from matplotlib import pyplot as plt\n",
    "plt.plot(train_results['Train Predictions'][:50], label='Predict')\n",
    "plt.plot(train_results['Actuals'][:50], label='Label')\n",
    "plt.legend()\n",
    "plt.show()"
   ]
  },
  {
   "cell_type": "code",
   "execution_count": 458,
   "id": "c7b2b609",
   "metadata": {},
   "outputs": [
    {
     "name": "stdout",
     "output_type": "stream",
     "text": [
      "233/233 [==============================] - 1s 3ms/step\n"
     ]
    },
    {
     "data": {
      "text/html": [
       "<div>\n",
       "<style scoped>\n",
       "    .dataframe tbody tr th:only-of-type {\n",
       "        vertical-align: middle;\n",
       "    }\n",
       "\n",
       "    .dataframe tbody tr th {\n",
       "        vertical-align: top;\n",
       "    }\n",
       "\n",
       "    .dataframe thead th {\n",
       "        text-align: right;\n",
       "    }\n",
       "</style>\n",
       "<table border=\"1\" class=\"dataframe\">\n",
       "  <thead>\n",
       "    <tr style=\"text-align: right;\">\n",
       "      <th></th>\n",
       "      <th>Test Predictions</th>\n",
       "      <th>Actuals</th>\n",
       "    </tr>\n",
       "  </thead>\n",
       "  <tbody>\n",
       "    <tr>\n",
       "      <th>0</th>\n",
       "      <td>-1.031031</td>\n",
       "      <td>-1.053071</td>\n",
       "    </tr>\n",
       "    <tr>\n",
       "      <th>1</th>\n",
       "      <td>-0.915078</td>\n",
       "      <td>-0.935934</td>\n",
       "    </tr>\n",
       "    <tr>\n",
       "      <th>2</th>\n",
       "      <td>-0.714274</td>\n",
       "      <td>-0.814292</td>\n",
       "    </tr>\n",
       "    <tr>\n",
       "      <th>3</th>\n",
       "      <td>-0.670363</td>\n",
       "      <td>-0.887400</td>\n",
       "    </tr>\n",
       "    <tr>\n",
       "      <th>4</th>\n",
       "      <td>-1.031939</td>\n",
       "      <td>-1.074163</td>\n",
       "    </tr>\n",
       "    <tr>\n",
       "      <th>...</th>\n",
       "      <td>...</td>\n",
       "      <td>...</td>\n",
       "    </tr>\n",
       "    <tr>\n",
       "      <th>7451</th>\n",
       "      <td>-0.486340</td>\n",
       "      <td>-0.534557</td>\n",
       "    </tr>\n",
       "    <tr>\n",
       "      <th>7452</th>\n",
       "      <td>-0.278676</td>\n",
       "      <td>-0.123760</td>\n",
       "    </tr>\n",
       "    <tr>\n",
       "      <th>7453</th>\n",
       "      <td>-0.031015</td>\n",
       "      <td>0.125053</td>\n",
       "    </tr>\n",
       "    <tr>\n",
       "      <th>7454</th>\n",
       "      <td>0.106074</td>\n",
       "      <td>0.045597</td>\n",
       "    </tr>\n",
       "    <tr>\n",
       "      <th>7455</th>\n",
       "      <td>-0.073218</td>\n",
       "      <td>-0.067444</td>\n",
       "    </tr>\n",
       "  </tbody>\n",
       "</table>\n",
       "<p>7456 rows × 2 columns</p>\n",
       "</div>"
      ],
      "text/plain": [
       "      Test Predictions   Actuals\n",
       "0            -1.031031 -1.053071\n",
       "1            -0.915078 -0.935934\n",
       "2            -0.714274 -0.814292\n",
       "3            -0.670363 -0.887400\n",
       "4            -1.031939 -1.074163\n",
       "...                ...       ...\n",
       "7451         -0.486340 -0.534557\n",
       "7452         -0.278676 -0.123760\n",
       "7453         -0.031015  0.125053\n",
       "7454          0.106074  0.045597\n",
       "7455         -0.073218 -0.067444\n",
       "\n",
       "[7456 rows x 2 columns]"
      ]
     },
     "execution_count": 458,
     "metadata": {},
     "output_type": "execute_result"
    }
   ],
   "source": [
    "test_predictions = model.predict(X_test).flatten()\n",
    "test_results = pd.DataFrame(data={'Test Predictions':test_predictions, 'Actuals':y_test})\n",
    "test_results"
   ]
  },
  {
   "cell_type": "code",
   "execution_count": 490,
   "id": "a4e6f530",
   "metadata": {},
   "outputs": [
    {
     "data": {
      "image/png": "[encoded data removed]",
      "text/plain": [
       "<Figure size 432x288 with 1 Axes>"
      ]
     },
     "metadata": {},
     "output_type": "display_data"
    }
   ],
   "source": [
    "from matplotlib import pyplot as plt\n",
    "plt.plot(test_results['Test Predictions'][:50], label='Predict')\n",
    "plt.plot(test_results['Actuals'][:50], label='Label')\n",
    "plt.show()"
   ]
  }
 ],
 "metadata": {
  "kernelspec": {
   "display_name": "Python 3 (ipykernel)",
   "language": "python",
   "name": "python3"
  },
  "language_info": {
   "codemirror_mode": {
    "name": "ipython",
    "version": 3
   },
   "file_extension": ".py",
   "mimetype": "text/x-python",
   "name": "python",
   "nbconvert_exporter": "python",
   "pygments_lexer": "ipython3",
   "version": "3.10.4"
  }
 },
 "nbformat": 4,
 "nbformat_minor": 5
}
