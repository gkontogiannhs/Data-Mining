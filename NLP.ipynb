{
 "cells": [
  {
   "cell_type": "code",
   "execution_count": 81,
   "id": "99eece9d",
   "metadata": {},
   "outputs": [
    {
     "name": "stdout",
     "output_type": "stream",
     "text": [
      "Once deleted, variables cannot be recovered. Proceed (y/[n])? y\n"
     ]
    }
   ],
   "source": [
    "%reset"
   ]
  },
  {
   "cell_type": "code",
   "execution_count": 82,
   "id": "9ddd60bb",
   "metadata": {},
   "outputs": [],
   "source": [
    "from matplotlib import pyplot as plt\n",
    "import seaborn as sns; sns.set_theme()\n",
    "from os.path import expanduser\n",
    "from pandas import read_csv\n",
    "from gensim.utils import simple_preprocess\n",
    "from gensim.models import Word2Vec"
   ]
  },
  {
   "cell_type": "markdown",
   "id": "2e860209",
   "metadata": {},
   "source": [
    "## Import data"
   ]
  },
  {
   "cell_type": "code",
   "execution_count": 83,
   "id": "551a52f7",
   "metadata": {},
   "outputs": [],
   "source": [
    "home = expanduser('~')\n",
    "my_path = f'{home}/Downloads/project_mining_2022/dataset/amazon.csv'"
   ]
  },
  {
   "cell_type": "code",
   "execution_count": 84,
   "id": "08114e8c",
   "metadata": {},
   "outputs": [],
   "source": [
    "reviews = read_csv(my_path)\n",
    "reviews.columns = ['review', 'rating']"
   ]
  },
  {
   "cell_type": "markdown",
   "id": "96ec8f6c",
   "metadata": {},
   "source": [
    "## Clean data"
   ]
  },
  {
   "cell_type": "code",
   "execution_count": 85,
   "id": "2bbfffdb",
   "metadata": {},
   "outputs": [],
   "source": [
    "clean_reviews = reviews['review'].apply(simple_preprocess)"
   ]
  },
  {
   "cell_type": "markdown",
   "id": "80258bfb",
   "metadata": {},
   "source": [
    "## Create and train Word2Vec"
   ]
  },
  {
   "cell_type": "code",
   "execution_count": 101,
   "id": "e3734a0c",
   "metadata": {},
   "outputs": [],
   "source": [
    "model = Word2Vec(\n",
    "    window=5,\n",
    "    min_count=1,\n",
    "    workers=4\n",
    ")\n",
    "model.build_vocab(clean_reviews, progress_per=1000)"
   ]
  },
  {
   "cell_type": "code",
   "execution_count": 102,
   "id": "e6f854f5",
   "metadata": {},
   "outputs": [
    {
     "data": {
      "text/plain": [
       "5"
      ]
     },
     "execution_count": 102,
     "metadata": {},
     "output_type": "execute_result"
    }
   ],
   "source": [
    "model.epochs"
   ]
  },
  {
   "cell_type": "code",
   "execution_count": 103,
   "id": "27d099d6",
   "metadata": {},
   "outputs": [
    {
     "data": {
      "text/plain": [
       "50000"
      ]
     },
     "execution_count": 103,
     "metadata": {},
     "output_type": "execute_result"
    }
   ],
   "source": [
    "model.corpus_count"
   ]
  },
  {
   "cell_type": "code",
   "execution_count": 104,
   "id": "fa842223",
   "metadata": {},
   "outputs": [
    {
     "data": {
      "text/plain": [
       "(13864283, 18303440)"
      ]
     },
     "execution_count": 104,
     "metadata": {},
     "output_type": "execute_result"
    }
   ],
   "source": [
    "model.train(clean_reviews, total_examples=model.corpus_count, epochs=model.epochs)"
   ]
  },
  {
   "cell_type": "code",
   "execution_count": 105,
   "id": "e7262ae0",
   "metadata": {},
   "outputs": [],
   "source": [
    "model.save('./amazon_reviews_trained_word2vec')"
   ]
  },
  {
   "cell_type": "code",
   "execution_count": 106,
   "id": "b93f865a",
   "metadata": {},
   "outputs": [
    {
     "data": {
      "text/plain": [
       "[('good', 0.7554733753204346),\n",
       " ('wonderful', 0.7479645609855652),\n",
       " ('fantastic', 0.744181215763092),\n",
       " ('perfect', 0.7174697518348694),\n",
       " ('terrific', 0.6718534827232361),\n",
       " ('nice', 0.663719117641449),\n",
       " ('excellent', 0.6561422944068909),\n",
       " ('awesome', 0.636242687702179),\n",
       " ('wonderfully', 0.609528660774231),\n",
       " ('fabulous', 0.5909039974212646)]"
      ]
     },
     "execution_count": 106,
     "metadata": {},
     "output_type": "execute_result"
    }
   ],
   "source": [
    "model.wv.most_similar('great')"
   ]
  },
  {
   "cell_type": "code",
   "execution_count": 107,
   "id": "90d76616",
   "metadata": {},
   "outputs": [
    {
     "data": {
      "text/plain": [
       "0.63624275"
      ]
     },
     "execution_count": 107,
     "metadata": {},
     "output_type": "execute_result"
    }
   ],
   "source": [
    "model.wv.similarity(w1='great', w2='awesome')"
   ]
  },
  {
   "cell_type": "markdown",
   "id": "d7b3631d",
   "metadata": {},
   "source": [
    "## pair words to embeddings"
   ]
  },
  {
   "cell_type": "code",
   "execution_count": 122,
   "id": "79d58ce4",
   "metadata": {},
   "outputs": [],
   "source": [
    "word_vec = dict({})\n",
    "for key in model.wv.index_to_key:\n",
    "    word_vec[key] = model.wv[key]"
   ]
  },
  {
   "cell_type": "markdown",
   "id": "33660b59",
   "metadata": {},
   "source": [
    "## convert documents to embeddings"
   ]
  },
  {
   "cell_type": "code",
   "execution_count": 127,
   "id": "30cf5108",
   "metadata": {},
   "outputs": [],
   "source": [
    "docVec = []\n",
    "vecSent = []\n",
    "for sentence in clean_reviews:\n",
    "    for word in sentence:\n",
    "        vecSent.append(word_vec[word])\n",
    "    docVec.append(vecSent)\n",
    "    break"
   ]
  },
  {
   "cell_type": "code",
   "execution_count": null,
   "id": "13f146be",
   "metadata": {},
   "outputs": [],
   "source": [
    "from numpy import array, add\n",
    "DocVec = []\n",
    "for i in range(len(clean_reviews)):\n",
    "    sentence_vector = array(100)\n",
    "    for j in range(len(clean_reviews[i])):\n",
    "        word = clear_reviews[i][j]\n",
    "        if word in word_vec.keys():\n",
    "            sentence_vector = add(sentece_vector, word_vec[word])\n",
    "    DocVec.append(sentence_vector)"
   ]
  },
  {
   "cell_type": "markdown",
   "id": "9e5d4017",
   "metadata": {},
   "source": [
    "## give them as input to a random forest"
   ]
  }
 ],
 "metadata": {
  "kernelspec": {
   "display_name": "Python 3 (ipykernel)",
   "language": "python",
   "name": "python3"
  },
  "language_info": {
   "codemirror_mode": {
    "name": "ipython",
    "version": 3
   },
   "file_extension": ".py",
   "mimetype": "text/x-python",
   "name": "python",
   "nbconvert_exporter": "python",
   "pygments_lexer": "ipython3",
   "version": "3.10.4"
  }
 },
 "nbformat": 4,
 "nbformat_minor": 5
}
