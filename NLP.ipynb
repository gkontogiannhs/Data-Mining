{
 "cells": [
  {
   "cell_type": "code",
   "execution_count": 1,
   "id": "99eece9d",
   "metadata": {},
   "outputs": [
    {
     "name": "stdout",
     "output_type": "stream",
     "text": [
      "Once deleted, variables cannot be recovered. Proceed (y/[n])? y\n"
     ]
    }
   ],
   "source": [
    "%reset"
   ]
  },
  {
   "cell_type": "code",
   "execution_count": 2,
   "id": "9ddd60bb",
   "metadata": {},
   "outputs": [],
   "source": [
    "from matplotlib import pyplot as plt\n",
    "import seaborn as sns; sns.set_theme()\n",
    "from os.path import expanduser\n",
    "from pandas import read_csv\n",
    "from pandas import DataFrame\n",
    "from gensim.utils import simple_preprocess\n",
    "from gensim.models import Word2Vec\n",
    "from numpy import array, add, divide\n",
    "from sklearn.ensemble import RandomForestClassifier\n",
    "from sklearn.model_selection import train_test_split\n",
    "from sklearn.metrics import confusion_matrix\n",
    "from nltk.corpus import stopwords\n",
    "from sklearn.metrics import precision_score, recall_score, f1_score, accuracy_score\n",
    "from imblearn.over_sampling import RandomOverSampler\n",
    "from sklearn.preprocessing import MinMaxScaler"
   ]
  },
  {
   "cell_type": "markdown",
   "id": "2e860209",
   "metadata": {},
   "source": [
    "## Import data"
   ]
  },
  {
   "cell_type": "code",
   "execution_count": 3,
   "id": "551a52f7",
   "metadata": {},
   "outputs": [],
   "source": [
    "home = expanduser('~')\n",
    "my_path = f'{home}/Downloads/project_mining_2022/dataset/amazon.csv'"
   ]
  },
  {
   "cell_type": "code",
   "execution_count": 4,
   "id": "08114e8c",
   "metadata": {},
   "outputs": [
    {
     "data": {
      "text/html": [
       "<div>\n",
       "<style scoped>\n",
       "    .dataframe tbody tr th:only-of-type {\n",
       "        vertical-align: middle;\n",
       "    }\n",
       "\n",
       "    .dataframe tbody tr th {\n",
       "        vertical-align: top;\n",
       "    }\n",
       "\n",
       "    .dataframe thead th {\n",
       "        text-align: right;\n",
       "    }\n",
       "</style>\n",
       "<table border=\"1\" class=\"dataframe\">\n",
       "  <thead>\n",
       "    <tr style=\"text-align: right;\">\n",
       "      <th></th>\n",
       "      <th>text_review</th>\n",
       "      <th>rating</th>\n",
       "    </tr>\n",
       "  </thead>\n",
       "  <tbody>\n",
       "    <tr>\n",
       "      <th>0</th>\n",
       "      <td>The description and photo on this product need...</td>\n",
       "      <td>3</td>\n",
       "    </tr>\n",
       "    <tr>\n",
       "      <th>1</th>\n",
       "      <td>This was a great book!!!! It is well thought t...</td>\n",
       "      <td>5</td>\n",
       "    </tr>\n",
       "    <tr>\n",
       "      <th>2</th>\n",
       "      <td>I am a first year teacher, teaching 5th grade....</td>\n",
       "      <td>5</td>\n",
       "    </tr>\n",
       "    <tr>\n",
       "      <th>3</th>\n",
       "      <td>I got the book at my bookfair at school lookin...</td>\n",
       "      <td>5</td>\n",
       "    </tr>\n",
       "    <tr>\n",
       "      <th>4</th>\n",
       "      <td>Hi! I'm Martine Redman and I created this puzz...</td>\n",
       "      <td>5</td>\n",
       "    </tr>\n",
       "  </tbody>\n",
       "</table>\n",
       "</div>"
      ],
      "text/plain": [
       "                                         text_review  rating\n",
       "0  The description and photo on this product need...       3\n",
       "1  This was a great book!!!! It is well thought t...       5\n",
       "2  I am a first year teacher, teaching 5th grade....       5\n",
       "3  I got the book at my bookfair at school lookin...       5\n",
       "4  Hi! I'm Martine Redman and I created this puzz...       5"
      ]
     },
     "execution_count": 4,
     "metadata": {},
     "output_type": "execute_result"
    }
   ],
   "source": [
    "reviews = read_csv(my_path)\n",
    "reviews.columns = ['text_review', 'rating']\n",
    "reviews.head()"
   ]
  },
  {
   "cell_type": "markdown",
   "id": "96ec8f6c",
   "metadata": {},
   "source": [
    "## Preproccessing"
   ]
  },
  {
   "cell_type": "markdown",
   "id": "2a99e48e",
   "metadata": {},
   "source": [
    "### Noise Removal, Lowercasing and Normalization"
   ]
  },
  {
   "cell_type": "code",
   "execution_count": 5,
   "id": "fd4af17e",
   "metadata": {},
   "outputs": [
    {
     "data": {
      "text/html": [
       "<div>\n",
       "<style scoped>\n",
       "    .dataframe tbody tr th:only-of-type {\n",
       "        vertical-align: middle;\n",
       "    }\n",
       "\n",
       "    .dataframe tbody tr th {\n",
       "        vertical-align: top;\n",
       "    }\n",
       "\n",
       "    .dataframe thead th {\n",
       "        text-align: right;\n",
       "    }\n",
       "</style>\n",
       "<table border=\"1\" class=\"dataframe\">\n",
       "  <thead>\n",
       "    <tr style=\"text-align: right;\">\n",
       "      <th></th>\n",
       "      <th>text_review</th>\n",
       "      <th>rating</th>\n",
       "    </tr>\n",
       "  </thead>\n",
       "  <tbody>\n",
       "    <tr>\n",
       "      <th>0</th>\n",
       "      <td>[the, description, and, photo, on, this, produ...</td>\n",
       "      <td>3</td>\n",
       "    </tr>\n",
       "    <tr>\n",
       "      <th>1</th>\n",
       "      <td>[this, was, great, book, it, is, well, thought...</td>\n",
       "      <td>5</td>\n",
       "    </tr>\n",
       "    <tr>\n",
       "      <th>2</th>\n",
       "      <td>[am, first, year, teacher, teaching, th, grade...</td>\n",
       "      <td>5</td>\n",
       "    </tr>\n",
       "    <tr>\n",
       "      <th>3</th>\n",
       "      <td>[got, the, book, at, my, bookfair, at, school,...</td>\n",
       "      <td>5</td>\n",
       "    </tr>\n",
       "    <tr>\n",
       "      <th>4</th>\n",
       "      <td>[hi, martine, redman, and, created, this, puzz...</td>\n",
       "      <td>5</td>\n",
       "    </tr>\n",
       "  </tbody>\n",
       "</table>\n",
       "</div>"
      ],
      "text/plain": [
       "                                         text_review  rating\n",
       "0  [the, description, and, photo, on, this, produ...       3\n",
       "1  [this, was, great, book, it, is, well, thought...       5\n",
       "2  [am, first, year, teacher, teaching, th, grade...       5\n",
       "3  [got, the, book, at, my, bookfair, at, school,...       5\n",
       "4  [hi, martine, redman, and, created, this, puzz...       5"
      ]
     },
     "execution_count": 5,
     "metadata": {},
     "output_type": "execute_result"
    }
   ],
   "source": [
    "reviews['text_review'] = reviews['text_review'].map(simple_preprocess)\n",
    "reviews.head()"
   ]
  },
  {
   "cell_type": "markdown",
   "id": "f448a6f8",
   "metadata": {},
   "source": [
    "### Stop words removal "
   ]
  },
  {
   "cell_type": "code",
   "execution_count": 6,
   "id": "88a427b7",
   "metadata": {},
   "outputs": [
    {
     "data": {
      "text/html": [
       "<div>\n",
       "<style scoped>\n",
       "    .dataframe tbody tr th:only-of-type {\n",
       "        vertical-align: middle;\n",
       "    }\n",
       "\n",
       "    .dataframe tbody tr th {\n",
       "        vertical-align: top;\n",
       "    }\n",
       "\n",
       "    .dataframe thead th {\n",
       "        text-align: right;\n",
       "    }\n",
       "</style>\n",
       "<table border=\"1\" class=\"dataframe\">\n",
       "  <thead>\n",
       "    <tr style=\"text-align: right;\">\n",
       "      <th></th>\n",
       "      <th>text_review</th>\n",
       "      <th>rating</th>\n",
       "    </tr>\n",
       "  </thead>\n",
       "  <tbody>\n",
       "    <tr>\n",
       "      <th>0</th>\n",
       "      <td>[description, photo, product, needs, changed, ...</td>\n",
       "      <td>3</td>\n",
       "    </tr>\n",
       "    <tr>\n",
       "      <th>1</th>\n",
       "      <td>[great, book, well, thought, easily, imagine, ...</td>\n",
       "      <td>5</td>\n",
       "    </tr>\n",
       "    <tr>\n",
       "      <th>2</th>\n",
       "      <td>[first, year, teacher, teaching, th, grade, sp...</td>\n",
       "      <td>5</td>\n",
       "    </tr>\n",
       "    <tr>\n",
       "      <th>3</th>\n",
       "      <td>[got, book, bookfair, school, looking, somethi...</td>\n",
       "      <td>5</td>\n",
       "    </tr>\n",
       "    <tr>\n",
       "      <th>4</th>\n",
       "      <td>[hi, martine, redman, created, puzzle, briarpa...</td>\n",
       "      <td>5</td>\n",
       "    </tr>\n",
       "  </tbody>\n",
       "</table>\n",
       "</div>"
      ],
      "text/plain": [
       "                                         text_review  rating\n",
       "0  [description, photo, product, needs, changed, ...       3\n",
       "1  [great, book, well, thought, easily, imagine, ...       5\n",
       "2  [first, year, teacher, teaching, th, grade, sp...       5\n",
       "3  [got, book, bookfair, school, looking, somethi...       5\n",
       "4  [hi, martine, redman, created, puzzle, briarpa...       5"
      ]
     },
     "execution_count": 6,
     "metadata": {},
     "output_type": "execute_result"
    }
   ],
   "source": [
    "def remove_stopwords(sentence_as_list):\n",
    "    stop_words = set(stopwords.words('english'))\n",
    "    return [word for word in sentence_as_list if word not in stop_words]\n",
    "            \n",
    "            \n",
    "reviews['text_review'] = reviews['text_review'].map(remove_stopwords)\n",
    "reviews.head()"
   ]
  },
  {
   "cell_type": "code",
   "execution_count": 7,
   "id": "188aa62d",
   "metadata": {},
   "outputs": [],
   "source": [
    "# remove blanks\n",
    "reviews = reviews[reviews['text_review'].map(len) > 0]"
   ]
  },
  {
   "cell_type": "code",
   "execution_count": 8,
   "id": "020c691a",
   "metadata": {},
   "outputs": [],
   "source": [
    "text_reviews = reviews['text_review'].values\n",
    "Y = reviews['rating'].values"
   ]
  },
  {
   "cell_type": "markdown",
   "id": "77808d1b",
   "metadata": {},
   "source": [
    "## Word Embeddings model creation - Word2Vec"
   ]
  },
  {
   "cell_type": "code",
   "execution_count": 9,
   "id": "128e6257",
   "metadata": {},
   "outputs": [],
   "source": [
    "model = Word2Vec(\n",
    "    window=5,\n",
    "    min_count=1,\n",
    "    workers=4\n",
    ")\n",
    "model.build_vocab(text_reviews, progress_per=1000)"
   ]
  },
  {
   "cell_type": "code",
   "execution_count": 10,
   "id": "f591a869",
   "metadata": {},
   "outputs": [
    {
     "data": {
      "text/plain": [
       "(8892214, 9327490)"
      ]
     },
     "execution_count": 10,
     "metadata": {},
     "output_type": "execute_result"
    }
   ],
   "source": [
    "model.train(text_reviews, total_examples=model.corpus_count, epochs=model.epochs)"
   ]
  },
  {
   "cell_type": "code",
   "execution_count": 11,
   "id": "733af4cd",
   "metadata": {},
   "outputs": [],
   "source": [
    "model.save('./amazon_reviews_trained_word2vec')"
   ]
  },
  {
   "cell_type": "code",
   "execution_count": 12,
   "id": "6c2a73bd",
   "metadata": {},
   "outputs": [
    {
     "data": {
      "text/plain": [
       "[('phone', 0.831372857093811),\n",
       " ('tv', 0.7898821830749512),\n",
       " ('video', 0.787908136844635),\n",
       " ('controller', 0.7669413089752197),\n",
       " ('dvd', 0.7648599147796631),\n",
       " ('correctly', 0.7647402882575989),\n",
       " ('camera', 0.7619369029998779),\n",
       " ('track', 0.7561458349227905),\n",
       " ('programming', 0.7558457255363464),\n",
       " ('click', 0.7552931308746338)]"
      ]
     },
     "execution_count": 12,
     "metadata": {},
     "output_type": "execute_result"
    }
   ],
   "source": [
    "model.wv.most_similar('computer')"
   ]
  },
  {
   "cell_type": "code",
   "execution_count": 13,
   "id": "e5cf7433",
   "metadata": {},
   "outputs": [
    {
     "data": {
      "text/plain": [
       "0.69963557"
      ]
     },
     "execution_count": 13,
     "metadata": {},
     "output_type": "execute_result"
    }
   ],
   "source": [
    "model.wv.similarity(w1='great', w2='awesome')"
   ]
  },
  {
   "cell_type": "markdown",
   "id": "ffc64923",
   "metadata": {},
   "source": [
    "### Pair words to embeddings"
   ]
  },
  {
   "cell_type": "code",
   "execution_count": 14,
   "id": "9b2e7489",
   "metadata": {},
   "outputs": [],
   "source": [
    "word_vec = dict({})\n",
    "for key in model.wv.index_to_key:\n",
    "    word_vec[key] = model.wv[key]"
   ]
  },
  {
   "cell_type": "markdown",
   "id": "f8ebf006",
   "metadata": {},
   "source": [
    "### Create document vectors"
   ]
  },
  {
   "cell_type": "code",
   "execution_count": 15,
   "id": "2bf28c96",
   "metadata": {},
   "outputs": [],
   "source": [
    "docVec = []\n",
    "# for every review\n",
    "for i in range(len(text_reviews)):\n",
    "    sentVect = array(100)\n",
    "    # for each word in review\n",
    "    for j in range(len(text_reviews[i])):\n",
    "        word = text_reviews[i][j]\n",
    "        if word in word_vec.keys():\n",
    "            # vector addition of the words in the text\n",
    "            sentVect = add(sentVect, word_vec[word])\n",
    "            \n",
    "    # normalize vector\n",
    "    sentVect = divide(sentVect, len(text_reviews[i]))\n",
    "    docVec.append(sentVect)"
   ]
  },
  {
   "cell_type": "code",
   "execution_count": 16,
   "id": "3a835f00",
   "metadata": {},
   "outputs": [
    {
     "data": {
      "text/html": [
       "<div>\n",
       "<style scoped>\n",
       "    .dataframe tbody tr th:only-of-type {\n",
       "        vertical-align: middle;\n",
       "    }\n",
       "\n",
       "    .dataframe tbody tr th {\n",
       "        vertical-align: top;\n",
       "    }\n",
       "\n",
       "    .dataframe thead th {\n",
       "        text-align: right;\n",
       "    }\n",
       "</style>\n",
       "<table border=\"1\" class=\"dataframe\">\n",
       "  <thead>\n",
       "    <tr style=\"text-align: right;\">\n",
       "      <th></th>\n",
       "      <th>0</th>\n",
       "      <th>1</th>\n",
       "      <th>2</th>\n",
       "      <th>3</th>\n",
       "      <th>4</th>\n",
       "      <th>5</th>\n",
       "      <th>6</th>\n",
       "      <th>7</th>\n",
       "      <th>8</th>\n",
       "      <th>9</th>\n",
       "      <th>...</th>\n",
       "      <th>91</th>\n",
       "      <th>92</th>\n",
       "      <th>93</th>\n",
       "      <th>94</th>\n",
       "      <th>95</th>\n",
       "      <th>96</th>\n",
       "      <th>97</th>\n",
       "      <th>98</th>\n",
       "      <th>99</th>\n",
       "      <th>rating</th>\n",
       "    </tr>\n",
       "  </thead>\n",
       "  <tbody>\n",
       "    <tr>\n",
       "      <th>0</th>\n",
       "      <td>8.930763</td>\n",
       "      <td>9.755676</td>\n",
       "      <td>8.825501</td>\n",
       "      <td>9.091612</td>\n",
       "      <td>9.261006</td>\n",
       "      <td>8.805261</td>\n",
       "      <td>9.045771</td>\n",
       "      <td>10.330650</td>\n",
       "      <td>9.018737</td>\n",
       "      <td>9.168095</td>\n",
       "      <td>...</td>\n",
       "      <td>8.955268</td>\n",
       "      <td>8.865531</td>\n",
       "      <td>9.065722</td>\n",
       "      <td>9.297515</td>\n",
       "      <td>9.257125</td>\n",
       "      <td>9.275002</td>\n",
       "      <td>8.493711</td>\n",
       "      <td>9.015067</td>\n",
       "      <td>9.062284</td>\n",
       "      <td>3</td>\n",
       "    </tr>\n",
       "    <tr>\n",
       "      <th>1</th>\n",
       "      <td>4.154589</td>\n",
       "      <td>4.595779</td>\n",
       "      <td>3.626750</td>\n",
       "      <td>4.336873</td>\n",
       "      <td>3.765345</td>\n",
       "      <td>3.671777</td>\n",
       "      <td>4.200261</td>\n",
       "      <td>4.631725</td>\n",
       "      <td>3.600538</td>\n",
       "      <td>3.436242</td>\n",
       "      <td>...</td>\n",
       "      <td>4.309210</td>\n",
       "      <td>3.297069</td>\n",
       "      <td>3.806753</td>\n",
       "      <td>4.316444</td>\n",
       "      <td>3.643270</td>\n",
       "      <td>4.313126</td>\n",
       "      <td>3.549628</td>\n",
       "      <td>3.973354</td>\n",
       "      <td>3.774004</td>\n",
       "      <td>5</td>\n",
       "    </tr>\n",
       "    <tr>\n",
       "      <th>2</th>\n",
       "      <td>1.995172</td>\n",
       "      <td>2.586228</td>\n",
       "      <td>1.876438</td>\n",
       "      <td>2.239799</td>\n",
       "      <td>1.896880</td>\n",
       "      <td>1.642775</td>\n",
       "      <td>2.103675</td>\n",
       "      <td>2.506651</td>\n",
       "      <td>1.557393</td>\n",
       "      <td>1.640833</td>\n",
       "      <td>...</td>\n",
       "      <td>2.352439</td>\n",
       "      <td>1.560052</td>\n",
       "      <td>1.790077</td>\n",
       "      <td>2.080339</td>\n",
       "      <td>2.126987</td>\n",
       "      <td>2.119798</td>\n",
       "      <td>1.701594</td>\n",
       "      <td>1.450907</td>\n",
       "      <td>1.694897</td>\n",
       "      <td>5</td>\n",
       "    </tr>\n",
       "    <tr>\n",
       "      <th>3</th>\n",
       "      <td>2.514477</td>\n",
       "      <td>2.827030</td>\n",
       "      <td>2.020205</td>\n",
       "      <td>2.761392</td>\n",
       "      <td>2.073751</td>\n",
       "      <td>2.153449</td>\n",
       "      <td>2.468775</td>\n",
       "      <td>2.795637</td>\n",
       "      <td>1.780922</td>\n",
       "      <td>2.106992</td>\n",
       "      <td>...</td>\n",
       "      <td>2.500124</td>\n",
       "      <td>2.191502</td>\n",
       "      <td>2.153658</td>\n",
       "      <td>2.285943</td>\n",
       "      <td>2.274668</td>\n",
       "      <td>2.560371</td>\n",
       "      <td>1.862178</td>\n",
       "      <td>1.985591</td>\n",
       "      <td>1.961489</td>\n",
       "      <td>5</td>\n",
       "    </tr>\n",
       "    <tr>\n",
       "      <th>4</th>\n",
       "      <td>1.540096</td>\n",
       "      <td>2.008163</td>\n",
       "      <td>1.448637</td>\n",
       "      <td>1.647356</td>\n",
       "      <td>1.465960</td>\n",
       "      <td>1.452590</td>\n",
       "      <td>1.705276</td>\n",
       "      <td>2.080120</td>\n",
       "      <td>1.483858</td>\n",
       "      <td>1.330621</td>\n",
       "      <td>...</td>\n",
       "      <td>1.717883</td>\n",
       "      <td>1.124554</td>\n",
       "      <td>1.381857</td>\n",
       "      <td>1.576245</td>\n",
       "      <td>1.634688</td>\n",
       "      <td>1.838305</td>\n",
       "      <td>1.416195</td>\n",
       "      <td>1.254740</td>\n",
       "      <td>1.556007</td>\n",
       "      <td>5</td>\n",
       "    </tr>\n",
       "  </tbody>\n",
       "</table>\n",
       "<p>5 rows × 101 columns</p>\n",
       "</div>"
      ],
      "text/plain": [
       "          0         1         2         3         4         5         6  \\\n",
       "0  8.930763  9.755676  8.825501  9.091612  9.261006  8.805261  9.045771   \n",
       "1  4.154589  4.595779  3.626750  4.336873  3.765345  3.671777  4.200261   \n",
       "2  1.995172  2.586228  1.876438  2.239799  1.896880  1.642775  2.103675   \n",
       "3  2.514477  2.827030  2.020205  2.761392  2.073751  2.153449  2.468775   \n",
       "4  1.540096  2.008163  1.448637  1.647356  1.465960  1.452590  1.705276   \n",
       "\n",
       "           7         8         9  ...        91        92        93        94  \\\n",
       "0  10.330650  9.018737  9.168095  ...  8.955268  8.865531  9.065722  9.297515   \n",
       "1   4.631725  3.600538  3.436242  ...  4.309210  3.297069  3.806753  4.316444   \n",
       "2   2.506651  1.557393  1.640833  ...  2.352439  1.560052  1.790077  2.080339   \n",
       "3   2.795637  1.780922  2.106992  ...  2.500124  2.191502  2.153658  2.285943   \n",
       "4   2.080120  1.483858  1.330621  ...  1.717883  1.124554  1.381857  1.576245   \n",
       "\n",
       "         95        96        97        98        99  rating  \n",
       "0  9.257125  9.275002  8.493711  9.015067  9.062284       3  \n",
       "1  3.643270  4.313126  3.549628  3.973354  3.774004       5  \n",
       "2  2.126987  2.119798  1.701594  1.450907  1.694897       5  \n",
       "3  2.274668  2.560371  1.862178  1.985591  1.961489       5  \n",
       "4  1.634688  1.838305  1.416195  1.254740  1.556007       5  \n",
       "\n",
       "[5 rows x 101 columns]"
      ]
     },
     "execution_count": 16,
     "metadata": {},
     "output_type": "execute_result"
    }
   ],
   "source": [
    "doc_vectors = DataFrame(docVec)\n",
    "doc_vectors['rating'] = Y\n",
    "doc_vectors.head()"
   ]
  },
  {
   "cell_type": "markdown",
   "id": "c37af329",
   "metadata": {},
   "source": [
    "### Class Sample distribution"
   ]
  },
  {
   "cell_type": "code",
   "execution_count": 17,
   "id": "68c63727",
   "metadata": {},
   "outputs": [
    {
     "data": {
      "image/png": "[encoded data removed]",
      "text/plain": [
       "<Figure size 432x288 with 1 Axes>"
      ]
     },
     "metadata": {},
     "output_type": "display_data"
    }
   ],
   "source": [
    "plt.hist(doc_vectors['rating'])\n",
    "plt.xlabel('rating')\n",
    "plt.ylabel('No. of reviews')\n",
    "plt.show()"
   ]
  },
  {
   "cell_type": "markdown",
   "id": "c13e78b2",
   "metadata": {},
   "source": [
    "## Data Normalization"
   ]
  },
  {
   "cell_type": "code",
   "execution_count": 18,
   "id": "cceb21bc",
   "metadata": {},
   "outputs": [
    {
     "data": {
      "text/html": [
       "<div>\n",
       "<style scoped>\n",
       "    .dataframe tbody tr th:only-of-type {\n",
       "        vertical-align: middle;\n",
       "    }\n",
       "\n",
       "    .dataframe tbody tr th {\n",
       "        vertical-align: top;\n",
       "    }\n",
       "\n",
       "    .dataframe thead th {\n",
       "        text-align: right;\n",
       "    }\n",
       "</style>\n",
       "<table border=\"1\" class=\"dataframe\">\n",
       "  <thead>\n",
       "    <tr style=\"text-align: right;\">\n",
       "      <th></th>\n",
       "      <th>0</th>\n",
       "      <th>1</th>\n",
       "      <th>2</th>\n",
       "      <th>3</th>\n",
       "      <th>4</th>\n",
       "      <th>5</th>\n",
       "      <th>6</th>\n",
       "      <th>7</th>\n",
       "      <th>8</th>\n",
       "      <th>9</th>\n",
       "      <th>...</th>\n",
       "      <th>90</th>\n",
       "      <th>91</th>\n",
       "      <th>92</th>\n",
       "      <th>93</th>\n",
       "      <th>94</th>\n",
       "      <th>95</th>\n",
       "      <th>96</th>\n",
       "      <th>97</th>\n",
       "      <th>98</th>\n",
       "      <th>99</th>\n",
       "    </tr>\n",
       "  </thead>\n",
       "  <tbody>\n",
       "    <tr>\n",
       "      <th>0</th>\n",
       "      <td>0.089324</td>\n",
       "      <td>0.091805</td>\n",
       "      <td>0.088423</td>\n",
       "      <td>0.089166</td>\n",
       "      <td>0.093473</td>\n",
       "      <td>0.090222</td>\n",
       "      <td>0.085279</td>\n",
       "      <td>0.095243</td>\n",
       "      <td>0.096591</td>\n",
       "      <td>0.092974</td>\n",
       "      <td>...</td>\n",
       "      <td>0.085231</td>\n",
       "      <td>0.086418</td>\n",
       "      <td>0.093748</td>\n",
       "      <td>0.088288</td>\n",
       "      <td>0.089455</td>\n",
       "      <td>0.091422</td>\n",
       "      <td>0.093795</td>\n",
       "      <td>0.088076</td>\n",
       "      <td>0.087655</td>\n",
       "      <td>0.091633</td>\n",
       "    </tr>\n",
       "    <tr>\n",
       "      <th>1</th>\n",
       "      <td>0.042734</td>\n",
       "      <td>0.041876</td>\n",
       "      <td>0.036962</td>\n",
       "      <td>0.042723</td>\n",
       "      <td>0.039747</td>\n",
       "      <td>0.040026</td>\n",
       "      <td>0.038552</td>\n",
       "      <td>0.039809</td>\n",
       "      <td>0.044057</td>\n",
       "      <td>0.036027</td>\n",
       "      <td>...</td>\n",
       "      <td>0.041643</td>\n",
       "      <td>0.041065</td>\n",
       "      <td>0.039484</td>\n",
       "      <td>0.036788</td>\n",
       "      <td>0.040648</td>\n",
       "      <td>0.036172</td>\n",
       "      <td>0.045630</td>\n",
       "      <td>0.039595</td>\n",
       "      <td>0.038757</td>\n",
       "      <td>0.040120</td>\n",
       "    </tr>\n",
       "    <tr>\n",
       "      <th>2</th>\n",
       "      <td>0.021670</td>\n",
       "      <td>0.022431</td>\n",
       "      <td>0.019637</td>\n",
       "      <td>0.022239</td>\n",
       "      <td>0.021481</td>\n",
       "      <td>0.020185</td>\n",
       "      <td>0.018335</td>\n",
       "      <td>0.019138</td>\n",
       "      <td>0.024246</td>\n",
       "      <td>0.018190</td>\n",
       "      <td>...</td>\n",
       "      <td>0.024086</td>\n",
       "      <td>0.021963</td>\n",
       "      <td>0.022557</td>\n",
       "      <td>0.017040</td>\n",
       "      <td>0.018737</td>\n",
       "      <td>0.021249</td>\n",
       "      <td>0.024339</td>\n",
       "      <td>0.021473</td>\n",
       "      <td>0.014292</td>\n",
       "      <td>0.019867</td>\n",
       "    </tr>\n",
       "    <tr>\n",
       "      <th>3</th>\n",
       "      <td>0.026735</td>\n",
       "      <td>0.024761</td>\n",
       "      <td>0.021060</td>\n",
       "      <td>0.027334</td>\n",
       "      <td>0.023210</td>\n",
       "      <td>0.025179</td>\n",
       "      <td>0.021855</td>\n",
       "      <td>0.021949</td>\n",
       "      <td>0.026414</td>\n",
       "      <td>0.022821</td>\n",
       "      <td>...</td>\n",
       "      <td>0.026033</td>\n",
       "      <td>0.023405</td>\n",
       "      <td>0.028710</td>\n",
       "      <td>0.020600</td>\n",
       "      <td>0.020752</td>\n",
       "      <td>0.022702</td>\n",
       "      <td>0.028615</td>\n",
       "      <td>0.023048</td>\n",
       "      <td>0.019478</td>\n",
       "      <td>0.022464</td>\n",
       "    </tr>\n",
       "    <tr>\n",
       "      <th>4</th>\n",
       "      <td>0.017231</td>\n",
       "      <td>0.016838</td>\n",
       "      <td>0.015402</td>\n",
       "      <td>0.016452</td>\n",
       "      <td>0.017269</td>\n",
       "      <td>0.018326</td>\n",
       "      <td>0.014493</td>\n",
       "      <td>0.014989</td>\n",
       "      <td>0.023533</td>\n",
       "      <td>0.015108</td>\n",
       "      <td>...</td>\n",
       "      <td>0.015648</td>\n",
       "      <td>0.015769</td>\n",
       "      <td>0.018313</td>\n",
       "      <td>0.013042</td>\n",
       "      <td>0.013798</td>\n",
       "      <td>0.016404</td>\n",
       "      <td>0.021606</td>\n",
       "      <td>0.018675</td>\n",
       "      <td>0.012389</td>\n",
       "      <td>0.018514</td>\n",
       "    </tr>\n",
       "  </tbody>\n",
       "</table>\n",
       "<p>5 rows × 100 columns</p>\n",
       "</div>"
      ],
      "text/plain": [
       "         0         1         2         3         4         5         6   \\\n",
       "0  0.089324  0.091805  0.088423  0.089166  0.093473  0.090222  0.085279   \n",
       "1  0.042734  0.041876  0.036962  0.042723  0.039747  0.040026  0.038552   \n",
       "2  0.021670  0.022431  0.019637  0.022239  0.021481  0.020185  0.018335   \n",
       "3  0.026735  0.024761  0.021060  0.027334  0.023210  0.025179  0.021855   \n",
       "4  0.017231  0.016838  0.015402  0.016452  0.017269  0.018326  0.014493   \n",
       "\n",
       "         7         8         9   ...        90        91        92        93  \\\n",
       "0  0.095243  0.096591  0.092974  ...  0.085231  0.086418  0.093748  0.088288   \n",
       "1  0.039809  0.044057  0.036027  ...  0.041643  0.041065  0.039484  0.036788   \n",
       "2  0.019138  0.024246  0.018190  ...  0.024086  0.021963  0.022557  0.017040   \n",
       "3  0.021949  0.026414  0.022821  ...  0.026033  0.023405  0.028710  0.020600   \n",
       "4  0.014989  0.023533  0.015108  ...  0.015648  0.015769  0.018313  0.013042   \n",
       "\n",
       "         94        95        96        97        98        99  \n",
       "0  0.089455  0.091422  0.093795  0.088076  0.087655  0.091633  \n",
       "1  0.040648  0.036172  0.045630  0.039595  0.038757  0.040120  \n",
       "2  0.018737  0.021249  0.024339  0.021473  0.014292  0.019867  \n",
       "3  0.020752  0.022702  0.028615  0.023048  0.019478  0.022464  \n",
       "4  0.013798  0.016404  0.021606  0.018675  0.012389  0.018514  \n",
       "\n",
       "[5 rows x 100 columns]"
      ]
     },
     "execution_count": 18,
     "metadata": {},
     "output_type": "execute_result"
    }
   ],
   "source": [
    "scaler = MinMaxScaler()\n",
    "scaled_doc_vectors = DataFrame(scaler.fit_transform(doc_vectors.drop(['rating'], axis=1)))\n",
    "scaled_doc_vectors.head()"
   ]
  },
  {
   "cell_type": "markdown",
   "id": "ac55f6b1",
   "metadata": {},
   "source": [
    "### Balance class sample weight"
   ]
  },
  {
   "cell_type": "code",
   "execution_count": 19,
   "id": "34db89ea",
   "metadata": {},
   "outputs": [
    {
     "data": {
      "text/plain": [
       "3    29772\n",
       "5    29772\n",
       "4    29772\n",
       "1    29772\n",
       "2    29772\n",
       "Name: rating, dtype: int64"
      ]
     },
     "execution_count": 19,
     "metadata": {},
     "output_type": "execute_result"
    }
   ],
   "source": [
    "# data are bias for '5' rating, so we generate new samples\n",
    "# by randomly sampling with replacement of the currently available samples \n",
    "ros = RandomOverSampler(random_state=42)\n",
    "x_ros, y_ros = ros.fit_resample(doc_vectors.drop(['rating'], axis=1), doc_vectors['rating'])\n",
    "y_ros.value_counts()"
   ]
  },
  {
   "cell_type": "markdown",
   "id": "466a68c2",
   "metadata": {},
   "source": [
    "### Split to train - test"
   ]
  },
  {
   "cell_type": "code",
   "execution_count": 20,
   "id": "c09dba99",
   "metadata": {},
   "outputs": [],
   "source": [
    "X_train, X_test, y_train, y_test = train_test_split(x_ros, y_ros, test_size=0.2)"
   ]
  },
  {
   "cell_type": "markdown",
   "id": "f0cf71f9",
   "metadata": {},
   "source": [
    "### Apply RandomForest Classifier"
   ]
  },
  {
   "cell_type": "code",
   "execution_count": 21,
   "id": "68462df5",
   "metadata": {},
   "outputs": [
    {
     "data": {
      "text/html": [
       "<style>#sk-container-id-1 {color: black;background-color: white;}#sk-container-id-1 pre{padding: 0;}#sk-container-id-1 div.sk-toggleable {background-color: white;}#sk-container-id-1 label.sk-toggleable__label {cursor: pointer;display: block;width: 100%;margin-bottom: 0;padding: 0.3em;box-sizing: border-box;text-align: center;}#sk-container-id-1 label.sk-toggleable__label-arrow:before {content: \"▸\";float: left;margin-right: 0.25em;color: #696969;}#sk-container-id-1 label.sk-toggleable__label-arrow:hover:before {color: black;}#sk-container-id-1 div.sk-estimator:hover label.sk-toggleable__label-arrow:before {color: black;}#sk-container-id-1 div.sk-toggleable__content {max-height: 0;max-width: 0;overflow: hidden;text-align: left;background-color: #f0f8ff;}#sk-container-id-1 div.sk-toggleable__content pre {margin: 0.2em;color: black;border-radius: 0.25em;background-color: #f0f8ff;}#sk-container-id-1 input.sk-toggleable__control:checked~div.sk-toggleable__content {max-height: 200px;max-width: 100%;overflow: auto;}#sk-container-id-1 input.sk-toggleable__control:checked~label.sk-toggleable__label-arrow:before {content: \"▾\";}#sk-container-id-1 div.sk-estimator input.sk-toggleable__control:checked~label.sk-toggleable__label {background-color: #d4ebff;}#sk-container-id-1 div.sk-label input.sk-toggleable__control:checked~label.sk-toggleable__label {background-color: #d4ebff;}#sk-container-id-1 input.sk-hidden--visually {border: 0;clip: rect(1px 1px 1px 1px);clip: rect(1px, 1px, 1px, 1px);height: 1px;margin: -1px;overflow: hidden;padding: 0;position: absolute;width: 1px;}#sk-container-id-1 div.sk-estimator {font-family: monospace;background-color: #f0f8ff;border: 1px dotted black;border-radius: 0.25em;box-sizing: border-box;margin-bottom: 0.5em;}#sk-container-id-1 div.sk-estimator:hover {background-color: #d4ebff;}#sk-container-id-1 div.sk-parallel-item::after {content: \"\";width: 100%;border-bottom: 1px solid gray;flex-grow: 1;}#sk-container-id-1 div.sk-label:hover label.sk-toggleable__label {background-color: #d4ebff;}#sk-container-id-1 div.sk-serial::before {content: \"\";position: absolute;border-left: 1px solid gray;box-sizing: border-box;top: 0;bottom: 0;left: 50%;z-index: 0;}#sk-container-id-1 div.sk-serial {display: flex;flex-direction: column;align-items: center;background-color: white;padding-right: 0.2em;padding-left: 0.2em;position: relative;}#sk-container-id-1 div.sk-item {position: relative;z-index: 1;}#sk-container-id-1 div.sk-parallel {display: flex;align-items: stretch;justify-content: center;background-color: white;position: relative;}#sk-container-id-1 div.sk-item::before, #sk-container-id-1 div.sk-parallel-item::before {content: \"\";position: absolute;border-left: 1px solid gray;box-sizing: border-box;top: 0;bottom: 0;left: 50%;z-index: -1;}#sk-container-id-1 div.sk-parallel-item {display: flex;flex-direction: column;z-index: 1;position: relative;background-color: white;}#sk-container-id-1 div.sk-parallel-item:first-child::after {align-self: flex-end;width: 50%;}#sk-container-id-1 div.sk-parallel-item:last-child::after {align-self: flex-start;width: 50%;}#sk-container-id-1 div.sk-parallel-item:only-child::after {width: 0;}#sk-container-id-1 div.sk-dashed-wrapped {border: 1px dashed gray;margin: 0 0.4em 0.5em 0.4em;box-sizing: border-box;padding-bottom: 0.4em;background-color: white;}#sk-container-id-1 div.sk-label label {font-family: monospace;font-weight: bold;display: inline-block;line-height: 1.2em;}#sk-container-id-1 div.sk-label-container {text-align: center;}#sk-container-id-1 div.sk-container {/* jupyter's `normalize.less` sets `[hidden] { display: none; }` but bootstrap.min.css set `[hidden] { display: none !important; }` so we also need the `!important` here to be able to override the default hidden behavior on the sphinx rendered scikit-learn.org. See: https://github.com/scikit-learn/scikit-learn/issues/21755 */display: inline-block !important;position: relative;}#sk-container-id-1 div.sk-text-repr-fallback {display: none;}</style><div id=\"sk-container-id-1\" class=\"sk-top-container\"><div class=\"sk-text-repr-fallback\"><pre>RandomForestClassifier(n_estimators=20, random_state=42)</pre><b>In a Jupyter environment, please rerun this cell to show the HTML representation or trust the notebook. <br />On GitHub, the HTML representation is unable to render, please try loading this page with nbviewer.org.</b></div><div class=\"sk-container\" hidden><div class=\"sk-item\"><div class=\"sk-estimator sk-toggleable\"><input class=\"sk-toggleable__control sk-hidden--visually\" id=\"sk-estimator-id-1\" type=\"checkbox\" checked><label for=\"sk-estimator-id-1\" class=\"sk-toggleable__label sk-toggleable__label-arrow\">RandomForestClassifier</label><div class=\"sk-toggleable__content\"><pre>RandomForestClassifier(n_estimators=20, random_state=42)</pre></div></div></div></div></div>"
      ],
      "text/plain": [
       "RandomForestClassifier(n_estimators=20, random_state=42)"
      ]
     },
     "execution_count": 21,
     "metadata": {},
     "output_type": "execute_result"
    }
   ],
   "source": [
    "randomForest = RandomForestClassifier(n_estimators=20, random_state=42)\n",
    "randomForest.fit(X_train, y_train)"
   ]
  },
  {
   "cell_type": "code",
   "execution_count": 22,
   "id": "20464994",
   "metadata": {},
   "outputs": [
    {
     "data": {
      "text/plain": [
       "0.9545546150745667"
      ]
     },
     "execution_count": 22,
     "metadata": {},
     "output_type": "execute_result"
    }
   ],
   "source": [
    "randomForest.score(X_test, y_test)"
   ]
  },
  {
   "cell_type": "code",
   "execution_count": 23,
   "id": "edd241ba",
   "metadata": {},
   "outputs": [],
   "source": [
    "y_pred = randomForest.predict(X_test)"
   ]
  },
  {
   "cell_type": "markdown",
   "id": "0ac344dd",
   "metadata": {},
   "source": [
    "### Confusion Matrix"
   ]
  },
  {
   "cell_type": "code",
   "execution_count": 24,
   "id": "39c843cf",
   "metadata": {},
   "outputs": [
    {
     "data": {
      "text/plain": [
       "array([[5884,    1,    1,   10,   21],\n",
       "       [   0, 5923,   16,    0,    0],\n",
       "       [   2,    0, 5934,    2,    9],\n",
       "       [  19,   12,   22, 5763,  246],\n",
       "       [ 236,   52,   92,  612, 4915]], dtype=int64)"
      ]
     },
     "execution_count": 24,
     "metadata": {},
     "output_type": "execute_result"
    }
   ],
   "source": [
    "cm = confusion_matrix(y_test, y_pred)\n",
    "cm"
   ]
  },
  {
   "cell_type": "code",
   "execution_count": 25,
   "id": "e9ca231a",
   "metadata": {},
   "outputs": [
    {
     "data": {
      "image/png": "[encoded data removed]",
      "text/plain": [
       "<Figure size 720x504 with 2 Axes>"
      ]
     },
     "metadata": {
      "needs_background": "light"
     },
     "output_type": "display_data"
    }
   ],
   "source": [
    "%matplotlib inline\n",
    "plt.figure(figsize=(10,7))\n",
    "sns.heatmap(cm, annot=True)\n",
    "plt.xlabel('Predicted')\n",
    "plt.ylabel('Actual')\n",
    "plt.show()"
   ]
  },
  {
   "cell_type": "markdown",
   "id": "f19b1759",
   "metadata": {},
   "source": [
    "###  f1 score, precision and recall "
   ]
  },
  {
   "cell_type": "code",
   "execution_count": 26,
   "id": "164e00d8",
   "metadata": {},
   "outputs": [
    {
     "name": "stdout",
     "output_type": "stream",
     "text": [
      "Precision: 0.955\n",
      "Recall: 0.955\n",
      "F1 Score: 0.954\n",
      "Accuracy: 0.955\n"
     ]
    }
   ],
   "source": [
    "print('Precision: %.3f' % precision_score(y_test, y_pred, average='weighted'))\n",
    "print('Recall: %.3f' % recall_score(y_test, y_pred, average='weighted'))\n",
    "print('F1 Score: %.3f' % f1_score(y_test, y_pred, average='weighted'))\n",
    "print('Accuracy: %.3f' % accuracy_score(y_test, y_pred))"
   ]
  }
 ],
 "metadata": {
  "kernelspec": {
   "display_name": "Python 3 (ipykernel)",
   "language": "python",
   "name": "python3"
  },
  "language_info": {
   "codemirror_mode": {
    "name": "ipython",
    "version": 3
   },
   "file_extension": ".py",
   "mimetype": "text/x-python",
   "name": "python",
   "nbconvert_exporter": "python",
   "pygments_lexer": "ipython3",
   "version": "3.10.4"
  }
 },
 "nbformat": 4,
 "nbformat_minor": 5
}
