{
 "cells": [
  {
   "cell_type": "code",
   "execution_count": 1,
   "id": "99eece9d",
   "metadata": {},
   "outputs": [
    {
     "name": "stdout",
     "output_type": "stream",
     "text": [
      "Once deleted, variables cannot be recovered. Proceed (y/[n])? y\n"
     ]
    }
   ],
   "source": [
    "%reset"
   ]
  },
  {
   "cell_type": "code",
   "execution_count": 2,
   "id": "9ddd60bb",
   "metadata": {},
   "outputs": [],
   "source": [
    "from matplotlib import pyplot as plt\n",
    "import seaborn as sns; sns.set_theme()\n",
    "from os.path import expanduser\n",
    "from pandas import read_csv\n",
    "from pandas import DataFrame\n",
    "from gensim.utils import simple_preprocess\n",
    "from gensim.models import Word2Vec\n",
    "from numpy import array, add, divide\n",
    "from sklearn.ensemble import RandomForestClassifier\n",
    "from sklearn.model_selection import train_test_split\n",
    "from sklearn.metrics import confusion_matrix\n",
    "from sklearn.preprocessing import MinMaxScaler\n",
    "from nltk.corpus import stopwords"
   ]
  },
  {
   "cell_type": "markdown",
   "id": "2e860209",
   "metadata": {},
   "source": [
    "## Import data"
   ]
  },
  {
   "cell_type": "code",
   "execution_count": 3,
   "id": "551a52f7",
   "metadata": {},
   "outputs": [],
   "source": [
    "home = expanduser('~')\n",
    "my_path = f'{home}/Downloads/project_mining_2022/dataset/amazon.csv'"
   ]
  },
  {
   "cell_type": "code",
   "execution_count": 4,
   "id": "08114e8c",
   "metadata": {},
   "outputs": [
    {
     "data": {
      "text/html": [
       "<div>\n",
       "<style scoped>\n",
       "    .dataframe tbody tr th:only-of-type {\n",
       "        vertical-align: middle;\n",
       "    }\n",
       "\n",
       "    .dataframe tbody tr th {\n",
       "        vertical-align: top;\n",
       "    }\n",
       "\n",
       "    .dataframe thead th {\n",
       "        text-align: right;\n",
       "    }\n",
       "</style>\n",
       "<table border=\"1\" class=\"dataframe\">\n",
       "  <thead>\n",
       "    <tr style=\"text-align: right;\">\n",
       "      <th></th>\n",
       "      <th>text_review</th>\n",
       "      <th>rating</th>\n",
       "    </tr>\n",
       "  </thead>\n",
       "  <tbody>\n",
       "    <tr>\n",
       "      <th>0</th>\n",
       "      <td>The description and photo on this product need...</td>\n",
       "      <td>3</td>\n",
       "    </tr>\n",
       "    <tr>\n",
       "      <th>1</th>\n",
       "      <td>This was a great book!!!! It is well thought t...</td>\n",
       "      <td>5</td>\n",
       "    </tr>\n",
       "    <tr>\n",
       "      <th>2</th>\n",
       "      <td>I am a first year teacher, teaching 5th grade....</td>\n",
       "      <td>5</td>\n",
       "    </tr>\n",
       "    <tr>\n",
       "      <th>3</th>\n",
       "      <td>I got the book at my bookfair at school lookin...</td>\n",
       "      <td>5</td>\n",
       "    </tr>\n",
       "    <tr>\n",
       "      <th>4</th>\n",
       "      <td>Hi! I'm Martine Redman and I created this puzz...</td>\n",
       "      <td>5</td>\n",
       "    </tr>\n",
       "  </tbody>\n",
       "</table>\n",
       "</div>"
      ],
      "text/plain": [
       "                                         text_review  rating\n",
       "0  The description and photo on this product need...       3\n",
       "1  This was a great book!!!! It is well thought t...       5\n",
       "2  I am a first year teacher, teaching 5th grade....       5\n",
       "3  I got the book at my bookfair at school lookin...       5\n",
       "4  Hi! I'm Martine Redman and I created this puzz...       5"
      ]
     },
     "execution_count": 4,
     "metadata": {},
     "output_type": "execute_result"
    }
   ],
   "source": [
    "reviews = read_csv(my_path)\n",
    "reviews.columns = ['text_review', 'rating']\n",
    "reviews.head()"
   ]
  },
  {
   "cell_type": "markdown",
   "id": "96ec8f6c",
   "metadata": {},
   "source": [
    "## Preproccessing"
   ]
  },
  {
   "cell_type": "markdown",
   "id": "2a99e48e",
   "metadata": {},
   "source": [
    "### Noise Removal, Lowercasing and Normalization"
   ]
  },
  {
   "cell_type": "code",
   "execution_count": 5,
   "id": "fd4af17e",
   "metadata": {},
   "outputs": [
    {
     "data": {
      "text/html": [
       "<div>\n",
       "<style scoped>\n",
       "    .dataframe tbody tr th:only-of-type {\n",
       "        vertical-align: middle;\n",
       "    }\n",
       "\n",
       "    .dataframe tbody tr th {\n",
       "        vertical-align: top;\n",
       "    }\n",
       "\n",
       "    .dataframe thead th {\n",
       "        text-align: right;\n",
       "    }\n",
       "</style>\n",
       "<table border=\"1\" class=\"dataframe\">\n",
       "  <thead>\n",
       "    <tr style=\"text-align: right;\">\n",
       "      <th></th>\n",
       "      <th>text_review</th>\n",
       "      <th>rating</th>\n",
       "    </tr>\n",
       "  </thead>\n",
       "  <tbody>\n",
       "    <tr>\n",
       "      <th>0</th>\n",
       "      <td>[the, description, and, photo, on, this, produ...</td>\n",
       "      <td>3</td>\n",
       "    </tr>\n",
       "    <tr>\n",
       "      <th>1</th>\n",
       "      <td>[this, was, great, book, it, is, well, thought...</td>\n",
       "      <td>5</td>\n",
       "    </tr>\n",
       "    <tr>\n",
       "      <th>2</th>\n",
       "      <td>[am, first, year, teacher, teaching, th, grade...</td>\n",
       "      <td>5</td>\n",
       "    </tr>\n",
       "    <tr>\n",
       "      <th>3</th>\n",
       "      <td>[got, the, book, at, my, bookfair, at, school,...</td>\n",
       "      <td>5</td>\n",
       "    </tr>\n",
       "    <tr>\n",
       "      <th>4</th>\n",
       "      <td>[hi, martine, redman, and, created, this, puzz...</td>\n",
       "      <td>5</td>\n",
       "    </tr>\n",
       "  </tbody>\n",
       "</table>\n",
       "</div>"
      ],
      "text/plain": [
       "                                         text_review  rating\n",
       "0  [the, description, and, photo, on, this, produ...       3\n",
       "1  [this, was, great, book, it, is, well, thought...       5\n",
       "2  [am, first, year, teacher, teaching, th, grade...       5\n",
       "3  [got, the, book, at, my, bookfair, at, school,...       5\n",
       "4  [hi, martine, redman, and, created, this, puzz...       5"
      ]
     },
     "execution_count": 5,
     "metadata": {},
     "output_type": "execute_result"
    }
   ],
   "source": [
    "reviews['text_review'] = reviews['text_review'].map(simple_preprocess)\n",
    "reviews.head()"
   ]
  },
  {
   "cell_type": "markdown",
   "id": "f448a6f8",
   "metadata": {},
   "source": [
    "### Stop words removal [maybe Stemming, Lemmatization, Stopword Removal?]"
   ]
  },
  {
   "cell_type": "code",
   "execution_count": 6,
   "id": "88a427b7",
   "metadata": {},
   "outputs": [
    {
     "data": {
      "text/html": [
       "<div>\n",
       "<style scoped>\n",
       "    .dataframe tbody tr th:only-of-type {\n",
       "        vertical-align: middle;\n",
       "    }\n",
       "\n",
       "    .dataframe tbody tr th {\n",
       "        vertical-align: top;\n",
       "    }\n",
       "\n",
       "    .dataframe thead th {\n",
       "        text-align: right;\n",
       "    }\n",
       "</style>\n",
       "<table border=\"1\" class=\"dataframe\">\n",
       "  <thead>\n",
       "    <tr style=\"text-align: right;\">\n",
       "      <th></th>\n",
       "      <th>text_review</th>\n",
       "      <th>rating</th>\n",
       "    </tr>\n",
       "  </thead>\n",
       "  <tbody>\n",
       "    <tr>\n",
       "      <th>0</th>\n",
       "      <td>[description, photo, product, needs, changed, ...</td>\n",
       "      <td>3</td>\n",
       "    </tr>\n",
       "    <tr>\n",
       "      <th>1</th>\n",
       "      <td>[great, book, well, thought, easily, imagine, ...</td>\n",
       "      <td>5</td>\n",
       "    </tr>\n",
       "    <tr>\n",
       "      <th>2</th>\n",
       "      <td>[first, year, teacher, teaching, th, grade, sp...</td>\n",
       "      <td>5</td>\n",
       "    </tr>\n",
       "    <tr>\n",
       "      <th>3</th>\n",
       "      <td>[got, book, bookfair, school, looking, somethi...</td>\n",
       "      <td>5</td>\n",
       "    </tr>\n",
       "    <tr>\n",
       "      <th>4</th>\n",
       "      <td>[hi, martine, redman, created, puzzle, briarpa...</td>\n",
       "      <td>5</td>\n",
       "    </tr>\n",
       "  </tbody>\n",
       "</table>\n",
       "</div>"
      ],
      "text/plain": [
       "                                         text_review  rating\n",
       "0  [description, photo, product, needs, changed, ...       3\n",
       "1  [great, book, well, thought, easily, imagine, ...       5\n",
       "2  [first, year, teacher, teaching, th, grade, sp...       5\n",
       "3  [got, book, bookfair, school, looking, somethi...       5\n",
       "4  [hi, martine, redman, created, puzzle, briarpa...       5"
      ]
     },
     "execution_count": 6,
     "metadata": {},
     "output_type": "execute_result"
    }
   ],
   "source": [
    "def remove_stopwords(sentence_as_list):\n",
    "    stop_words = set(stopwords.words('english'))\n",
    "    return [word for word in sentence_as_list if word not in stop_words]\n",
    "            \n",
    "            \n",
    "reviews['text_review'] = reviews['text_review'].map(remove_stopwords)\n",
    "reviews.head()"
   ]
  },
  {
   "cell_type": "code",
   "execution_count": 7,
   "id": "188aa62d",
   "metadata": {},
   "outputs": [],
   "source": [
    "# remove blanks\n",
    "reviews = reviews[reviews['text_review'].map(len) > 0]"
   ]
  },
  {
   "cell_type": "code",
   "execution_count": 8,
   "id": "020c691a",
   "metadata": {},
   "outputs": [],
   "source": [
    "text_reviews = reviews['text_review'].values\n",
    "Y = reviews['rating'].values"
   ]
  },
  {
   "cell_type": "markdown",
   "id": "77808d1b",
   "metadata": {},
   "source": [
    "## Create and model with Word2Vec"
   ]
  },
  {
   "cell_type": "code",
   "execution_count": 9,
   "id": "128e6257",
   "metadata": {},
   "outputs": [],
   "source": [
    "model = Word2Vec(\n",
    "    window=5,\n",
    "    min_count=1,\n",
    "    workers=4\n",
    ")\n",
    "model.build_vocab(text_reviews, progress_per=1000)"
   ]
  },
  {
   "cell_type": "code",
   "execution_count": 10,
   "id": "f591a869",
   "metadata": {},
   "outputs": [
    {
     "data": {
      "text/plain": [
       "(8891313, 9327490)"
      ]
     },
     "execution_count": 10,
     "metadata": {},
     "output_type": "execute_result"
    }
   ],
   "source": [
    "model.train(text_reviews, total_examples=model.corpus_count, epochs=model.epochs)"
   ]
  },
  {
   "cell_type": "code",
   "execution_count": 11,
   "id": "733af4cd",
   "metadata": {},
   "outputs": [],
   "source": [
    "model.save('./amazon_reviews_trained_word2vec')"
   ]
  },
  {
   "cell_type": "code",
   "execution_count": 12,
   "id": "6c2a73bd",
   "metadata": {},
   "outputs": [
    {
     "data": {
      "text/plain": [
       "[('decent', 0.7805057168006897),\n",
       " ('great', 0.750182569026947),\n",
       " ('ok', 0.677306592464447),\n",
       " ('bad', 0.6615262627601624),\n",
       " ('okay', 0.6282117366790771),\n",
       " ('reasonable', 0.6282050013542175),\n",
       " ('fantastic', 0.6220912933349609),\n",
       " ('excellent', 0.6184373497962952),\n",
       " ('wise', 0.6021673679351807),\n",
       " ('awesome', 0.594153106212616)]"
      ]
     },
     "execution_count": 12,
     "metadata": {},
     "output_type": "execute_result"
    }
   ],
   "source": [
    "model.wv.most_similar('good')"
   ]
  },
  {
   "cell_type": "code",
   "execution_count": 13,
   "id": "d1b163ec",
   "metadata": {},
   "outputs": [
    {
     "data": {
      "text/plain": [
       "0.7229675"
      ]
     },
     "execution_count": 13,
     "metadata": {},
     "output_type": "execute_result"
    }
   ],
   "source": [
    "model.wv.similarity(w1='great', w2='awesome')"
   ]
  },
  {
   "cell_type": "markdown",
   "id": "ffc64923",
   "metadata": {},
   "source": [
    "### Pair words to embeddings"
   ]
  },
  {
   "cell_type": "code",
   "execution_count": 14,
   "id": "9b2e7489",
   "metadata": {},
   "outputs": [],
   "source": [
    "word_vec = dict({})\n",
    "for key in model.wv.index_to_key:\n",
    "    word_vec[key] = model.wv[key]"
   ]
  },
  {
   "cell_type": "markdown",
   "id": "f8ebf006",
   "metadata": {},
   "source": [
    "### Create document vectors"
   ]
  },
  {
   "cell_type": "code",
   "execution_count": 15,
   "id": "2bf28c96",
   "metadata": {},
   "outputs": [],
   "source": [
    "docVec = []\n",
    "# for every review\n",
    "for i in range(len(text_reviews)):\n",
    "    sentVect = array(100)\n",
    "    # for each word in review\n",
    "    for j in range(len(text_reviews[i])):\n",
    "        word = text_reviews[i][j]\n",
    "        if word in word_vec.keys():\n",
    "            # vector addition of the words in the text\n",
    "            sentVect = add(sentVect, word_vec[word])\n",
    "            \n",
    "    # normalize vector\n",
    "    sentVect = divide(sentVect, len(text_reviews[i]))\n",
    "    docVec.append(sentVect)"
   ]
  },
  {
   "cell_type": "code",
   "execution_count": 16,
   "id": "3a835f00",
   "metadata": {},
   "outputs": [
    {
     "data": {
      "text/html": [
       "<div>\n",
       "<style scoped>\n",
       "    .dataframe tbody tr th:only-of-type {\n",
       "        vertical-align: middle;\n",
       "    }\n",
       "\n",
       "    .dataframe tbody tr th {\n",
       "        vertical-align: top;\n",
       "    }\n",
       "\n",
       "    .dataframe thead th {\n",
       "        text-align: right;\n",
       "    }\n",
       "</style>\n",
       "<table border=\"1\" class=\"dataframe\">\n",
       "  <thead>\n",
       "    <tr style=\"text-align: right;\">\n",
       "      <th></th>\n",
       "      <th>0</th>\n",
       "      <th>1</th>\n",
       "      <th>2</th>\n",
       "      <th>3</th>\n",
       "      <th>4</th>\n",
       "      <th>5</th>\n",
       "      <th>6</th>\n",
       "      <th>7</th>\n",
       "      <th>8</th>\n",
       "      <th>9</th>\n",
       "      <th>...</th>\n",
       "      <th>91</th>\n",
       "      <th>92</th>\n",
       "      <th>93</th>\n",
       "      <th>94</th>\n",
       "      <th>95</th>\n",
       "      <th>96</th>\n",
       "      <th>97</th>\n",
       "      <th>98</th>\n",
       "      <th>99</th>\n",
       "      <th>rating</th>\n",
       "    </tr>\n",
       "  </thead>\n",
       "  <tbody>\n",
       "    <tr>\n",
       "      <th>0</th>\n",
       "      <td>8.986559</td>\n",
       "      <td>9.803274</td>\n",
       "      <td>8.769523</td>\n",
       "      <td>8.829211</td>\n",
       "      <td>9.303893</td>\n",
       "      <td>8.926492</td>\n",
       "      <td>9.001976</td>\n",
       "      <td>10.333488</td>\n",
       "      <td>9.006742</td>\n",
       "      <td>9.099776</td>\n",
       "      <td>...</td>\n",
       "      <td>8.852845</td>\n",
       "      <td>8.859558</td>\n",
       "      <td>8.942059</td>\n",
       "      <td>9.433333</td>\n",
       "      <td>9.144350</td>\n",
       "      <td>9.345303</td>\n",
       "      <td>8.607111</td>\n",
       "      <td>9.140155</td>\n",
       "      <td>9.131814</td>\n",
       "      <td>3</td>\n",
       "    </tr>\n",
       "    <tr>\n",
       "      <th>1</th>\n",
       "      <td>4.004692</td>\n",
       "      <td>4.545535</td>\n",
       "      <td>3.436692</td>\n",
       "      <td>4.260720</td>\n",
       "      <td>3.710545</td>\n",
       "      <td>3.663581</td>\n",
       "      <td>4.106510</td>\n",
       "      <td>4.526963</td>\n",
       "      <td>3.464768</td>\n",
       "      <td>3.709066</td>\n",
       "      <td>...</td>\n",
       "      <td>4.301771</td>\n",
       "      <td>3.151076</td>\n",
       "      <td>3.810423</td>\n",
       "      <td>4.377810</td>\n",
       "      <td>3.561296</td>\n",
       "      <td>4.236473</td>\n",
       "      <td>3.598867</td>\n",
       "      <td>3.968994</td>\n",
       "      <td>3.860459</td>\n",
       "      <td>5</td>\n",
       "    </tr>\n",
       "    <tr>\n",
       "      <th>2</th>\n",
       "      <td>1.996457</td>\n",
       "      <td>2.559013</td>\n",
       "      <td>1.754743</td>\n",
       "      <td>2.121185</td>\n",
       "      <td>2.004411</td>\n",
       "      <td>1.523626</td>\n",
       "      <td>1.943274</td>\n",
       "      <td>2.363454</td>\n",
       "      <td>1.501353</td>\n",
       "      <td>1.642485</td>\n",
       "      <td>...</td>\n",
       "      <td>2.298318</td>\n",
       "      <td>1.547433</td>\n",
       "      <td>1.743775</td>\n",
       "      <td>2.113623</td>\n",
       "      <td>2.029410</td>\n",
       "      <td>2.110367</td>\n",
       "      <td>1.778512</td>\n",
       "      <td>1.432950</td>\n",
       "      <td>1.813241</td>\n",
       "      <td>5</td>\n",
       "    </tr>\n",
       "    <tr>\n",
       "      <th>3</th>\n",
       "      <td>2.383894</td>\n",
       "      <td>2.703706</td>\n",
       "      <td>1.874210</td>\n",
       "      <td>2.662862</td>\n",
       "      <td>1.972716</td>\n",
       "      <td>2.121916</td>\n",
       "      <td>2.457296</td>\n",
       "      <td>2.764375</td>\n",
       "      <td>1.744975</td>\n",
       "      <td>2.106588</td>\n",
       "      <td>...</td>\n",
       "      <td>2.522181</td>\n",
       "      <td>2.112277</td>\n",
       "      <td>2.117678</td>\n",
       "      <td>2.251608</td>\n",
       "      <td>2.219999</td>\n",
       "      <td>2.569147</td>\n",
       "      <td>2.007192</td>\n",
       "      <td>1.976601</td>\n",
       "      <td>2.107385</td>\n",
       "      <td>5</td>\n",
       "    </tr>\n",
       "    <tr>\n",
       "      <th>4</th>\n",
       "      <td>1.530847</td>\n",
       "      <td>1.918497</td>\n",
       "      <td>1.268671</td>\n",
       "      <td>1.653742</td>\n",
       "      <td>1.505481</td>\n",
       "      <td>1.442893</td>\n",
       "      <td>1.580122</td>\n",
       "      <td>2.015061</td>\n",
       "      <td>1.413939</td>\n",
       "      <td>1.373301</td>\n",
       "      <td>...</td>\n",
       "      <td>1.776438</td>\n",
       "      <td>1.091131</td>\n",
       "      <td>1.396433</td>\n",
       "      <td>1.618471</td>\n",
       "      <td>1.618182</td>\n",
       "      <td>1.853767</td>\n",
       "      <td>1.352942</td>\n",
       "      <td>1.234549</td>\n",
       "      <td>1.662124</td>\n",
       "      <td>5</td>\n",
       "    </tr>\n",
       "  </tbody>\n",
       "</table>\n",
       "<p>5 rows × 101 columns</p>\n",
       "</div>"
      ],
      "text/plain": [
       "          0         1         2         3         4         5         6  \\\n",
       "0  8.986559  9.803274  8.769523  8.829211  9.303893  8.926492  9.001976   \n",
       "1  4.004692  4.545535  3.436692  4.260720  3.710545  3.663581  4.106510   \n",
       "2  1.996457  2.559013  1.754743  2.121185  2.004411  1.523626  1.943274   \n",
       "3  2.383894  2.703706  1.874210  2.662862  1.972716  2.121916  2.457296   \n",
       "4  1.530847  1.918497  1.268671  1.653742  1.505481  1.442893  1.580122   \n",
       "\n",
       "           7         8         9  ...        91        92        93        94  \\\n",
       "0  10.333488  9.006742  9.099776  ...  8.852845  8.859558  8.942059  9.433333   \n",
       "1   4.526963  3.464768  3.709066  ...  4.301771  3.151076  3.810423  4.377810   \n",
       "2   2.363454  1.501353  1.642485  ...  2.298318  1.547433  1.743775  2.113623   \n",
       "3   2.764375  1.744975  2.106588  ...  2.522181  2.112277  2.117678  2.251608   \n",
       "4   2.015061  1.413939  1.373301  ...  1.776438  1.091131  1.396433  1.618471   \n",
       "\n",
       "         95        96        97        98        99  rating  \n",
       "0  9.144350  9.345303  8.607111  9.140155  9.131814       3  \n",
       "1  3.561296  4.236473  3.598867  3.968994  3.860459       5  \n",
       "2  2.029410  2.110367  1.778512  1.432950  1.813241       5  \n",
       "3  2.219999  2.569147  2.007192  1.976601  2.107385       5  \n",
       "4  1.618182  1.853767  1.352942  1.234549  1.662124       5  \n",
       "\n",
       "[5 rows x 101 columns]"
      ]
     },
     "execution_count": 16,
     "metadata": {},
     "output_type": "execute_result"
    }
   ],
   "source": [
    "doc_vectors = DataFrame(docVec)\n",
    "doc_vectors['rating'] = Y\n",
    "doc_vectors.head()"
   ]
  },
  {
   "cell_type": "code",
   "execution_count": 17,
   "id": "68c63727",
   "metadata": {},
   "outputs": [
    {
     "data": {
      "image/png": "[encoded data removed]",
      "text/plain": [
       "<Figure size 432x288 with 1 Axes>"
      ]
     },
     "metadata": {},
     "output_type": "display_data"
    }
   ],
   "source": [
    "plt.hist(doc_vectors['rating'])\n",
    "plt.xlabel('rating')\n",
    "plt.ylabel('No. of reviews')\n",
    "plt.show()"
   ]
  },
  {
   "cell_type": "markdown",
   "id": "c13e78b2",
   "metadata": {},
   "source": [
    "## Give them as input to a random forest"
   ]
  },
  {
   "cell_type": "code",
   "execution_count": 18,
   "id": "cceb21bc",
   "metadata": {},
   "outputs": [],
   "source": [
    "from sklearn.preprocessing import StandardScaler\n",
    "scaler = StandardScaler()\n",
    "\n",
    "scaled_doc_vectors = DataFrame(scaler.fit_transform(doc_vectors.drop(['rating'], axis=1)))"
   ]
  },
  {
   "cell_type": "code",
   "execution_count": 19,
   "id": "5094523f",
   "metadata": {},
   "outputs": [
    {
     "data": {
      "text/html": [
       "<div>\n",
       "<style scoped>\n",
       "    .dataframe tbody tr th:only-of-type {\n",
       "        vertical-align: middle;\n",
       "    }\n",
       "\n",
       "    .dataframe tbody tr th {\n",
       "        vertical-align: top;\n",
       "    }\n",
       "\n",
       "    .dataframe thead th {\n",
       "        text-align: right;\n",
       "    }\n",
       "</style>\n",
       "<table border=\"1\" class=\"dataframe\">\n",
       "  <thead>\n",
       "    <tr style=\"text-align: right;\">\n",
       "      <th></th>\n",
       "      <th>0</th>\n",
       "      <th>1</th>\n",
       "      <th>2</th>\n",
       "      <th>3</th>\n",
       "      <th>4</th>\n",
       "      <th>5</th>\n",
       "      <th>6</th>\n",
       "      <th>7</th>\n",
       "      <th>8</th>\n",
       "      <th>9</th>\n",
       "      <th>...</th>\n",
       "      <th>90</th>\n",
       "      <th>91</th>\n",
       "      <th>92</th>\n",
       "      <th>93</th>\n",
       "      <th>94</th>\n",
       "      <th>95</th>\n",
       "      <th>96</th>\n",
       "      <th>97</th>\n",
       "      <th>98</th>\n",
       "      <th>99</th>\n",
       "    </tr>\n",
       "  </thead>\n",
       "  <tbody>\n",
       "    <tr>\n",
       "      <th>0</th>\n",
       "      <td>0.688851</td>\n",
       "      <td>0.731199</td>\n",
       "      <td>0.656798</td>\n",
       "      <td>0.616111</td>\n",
       "      <td>0.736759</td>\n",
       "      <td>0.740287</td>\n",
       "      <td>0.626639</td>\n",
       "      <td>0.778379</td>\n",
       "      <td>0.761373</td>\n",
       "      <td>0.731774</td>\n",
       "      <td>...</td>\n",
       "      <td>0.538967</td>\n",
       "      <td>0.613667</td>\n",
       "      <td>0.734620</td>\n",
       "      <td>0.672430</td>\n",
       "      <td>0.682510</td>\n",
       "      <td>0.728151</td>\n",
       "      <td>0.688233</td>\n",
       "      <td>0.676744</td>\n",
       "      <td>0.653470</td>\n",
       "      <td>0.727374</td>\n",
       "    </tr>\n",
       "    <tr>\n",
       "      <th>1</th>\n",
       "      <td>-0.121625</td>\n",
       "      <td>-0.122630</td>\n",
       "      <td>-0.215273</td>\n",
       "      <td>-0.131453</td>\n",
       "      <td>-0.177717</td>\n",
       "      <td>-0.119048</td>\n",
       "      <td>-0.173422</td>\n",
       "      <td>-0.164379</td>\n",
       "      <td>-0.138446</td>\n",
       "      <td>-0.151514</td>\n",
       "      <td>...</td>\n",
       "      <td>-0.161973</td>\n",
       "      <td>-0.129416</td>\n",
       "      <td>-0.199425</td>\n",
       "      <td>-0.165827</td>\n",
       "      <td>-0.140559</td>\n",
       "      <td>-0.182256</td>\n",
       "      <td>-0.145447</td>\n",
       "      <td>-0.141886</td>\n",
       "      <td>-0.190942</td>\n",
       "      <td>-0.135626</td>\n",
       "    </tr>\n",
       "    <tr>\n",
       "      <th>2</th>\n",
       "      <td>-0.448335</td>\n",
       "      <td>-0.445231</td>\n",
       "      <td>-0.490321</td>\n",
       "      <td>-0.481556</td>\n",
       "      <td>-0.456658</td>\n",
       "      <td>-0.468462</td>\n",
       "      <td>-0.526957</td>\n",
       "      <td>-0.515651</td>\n",
       "      <td>-0.457234</td>\n",
       "      <td>-0.490131</td>\n",
       "      <td>...</td>\n",
       "      <td>-0.474835</td>\n",
       "      <td>-0.456533</td>\n",
       "      <td>-0.461820</td>\n",
       "      <td>-0.503415</td>\n",
       "      <td>-0.509182</td>\n",
       "      <td>-0.432055</td>\n",
       "      <td>-0.492394</td>\n",
       "      <td>-0.439435</td>\n",
       "      <td>-0.605059</td>\n",
       "      <td>-0.470786</td>\n",
       "    </tr>\n",
       "    <tr>\n",
       "      <th>3</th>\n",
       "      <td>-0.385304</td>\n",
       "      <td>-0.421734</td>\n",
       "      <td>-0.470784</td>\n",
       "      <td>-0.392919</td>\n",
       "      <td>-0.461840</td>\n",
       "      <td>-0.370773</td>\n",
       "      <td>-0.442951</td>\n",
       "      <td>-0.450557</td>\n",
       "      <td>-0.417679</td>\n",
       "      <td>-0.414086</td>\n",
       "      <td>...</td>\n",
       "      <td>-0.422906</td>\n",
       "      <td>-0.419981</td>\n",
       "      <td>-0.369398</td>\n",
       "      <td>-0.442338</td>\n",
       "      <td>-0.486717</td>\n",
       "      <td>-0.400976</td>\n",
       "      <td>-0.417528</td>\n",
       "      <td>-0.402055</td>\n",
       "      <td>-0.516285</td>\n",
       "      <td>-0.422630</td>\n",
       "    </tr>\n",
       "    <tr>\n",
       "      <th>4</th>\n",
       "      <td>-0.524082</td>\n",
       "      <td>-0.549247</td>\n",
       "      <td>-0.569807</td>\n",
       "      <td>-0.558046</td>\n",
       "      <td>-0.538230</td>\n",
       "      <td>-0.481645</td>\n",
       "      <td>-0.586306</td>\n",
       "      <td>-0.572217</td>\n",
       "      <td>-0.471427</td>\n",
       "      <td>-0.534238</td>\n",
       "      <td>...</td>\n",
       "      <td>-0.597410</td>\n",
       "      <td>-0.541743</td>\n",
       "      <td>-0.536482</td>\n",
       "      <td>-0.560154</td>\n",
       "      <td>-0.589795</td>\n",
       "      <td>-0.499112</td>\n",
       "      <td>-0.534267</td>\n",
       "      <td>-0.508997</td>\n",
       "      <td>-0.637457</td>\n",
       "      <td>-0.495526</td>\n",
       "    </tr>\n",
       "  </tbody>\n",
       "</table>\n",
       "<p>5 rows × 100 columns</p>\n",
       "</div>"
      ],
      "text/plain": [
       "         0         1         2         3         4         5         6   \\\n",
       "0  0.688851  0.731199  0.656798  0.616111  0.736759  0.740287  0.626639   \n",
       "1 -0.121625 -0.122630 -0.215273 -0.131453 -0.177717 -0.119048 -0.173422   \n",
       "2 -0.448335 -0.445231 -0.490321 -0.481556 -0.456658 -0.468462 -0.526957   \n",
       "3 -0.385304 -0.421734 -0.470784 -0.392919 -0.461840 -0.370773 -0.442951   \n",
       "4 -0.524082 -0.549247 -0.569807 -0.558046 -0.538230 -0.481645 -0.586306   \n",
       "\n",
       "         7         8         9   ...        90        91        92        93  \\\n",
       "0  0.778379  0.761373  0.731774  ...  0.538967  0.613667  0.734620  0.672430   \n",
       "1 -0.164379 -0.138446 -0.151514  ... -0.161973 -0.129416 -0.199425 -0.165827   \n",
       "2 -0.515651 -0.457234 -0.490131  ... -0.474835 -0.456533 -0.461820 -0.503415   \n",
       "3 -0.450557 -0.417679 -0.414086  ... -0.422906 -0.419981 -0.369398 -0.442338   \n",
       "4 -0.572217 -0.471427 -0.534238  ... -0.597410 -0.541743 -0.536482 -0.560154   \n",
       "\n",
       "         94        95        96        97        98        99  \n",
       "0  0.682510  0.728151  0.688233  0.676744  0.653470  0.727374  \n",
       "1 -0.140559 -0.182256 -0.145447 -0.141886 -0.190942 -0.135626  \n",
       "2 -0.509182 -0.432055 -0.492394 -0.439435 -0.605059 -0.470786  \n",
       "3 -0.486717 -0.400976 -0.417528 -0.402055 -0.516285 -0.422630  \n",
       "4 -0.589795 -0.499112 -0.534267 -0.508997 -0.637457 -0.495526  \n",
       "\n",
       "[5 rows x 100 columns]"
      ]
     },
     "execution_count": 19,
     "metadata": {},
     "output_type": "execute_result"
    }
   ],
   "source": [
    "scaled_doc_vectors.head()"
   ]
  },
  {
   "cell_type": "code",
   "execution_count": 20,
   "id": "c09dba99",
   "metadata": {},
   "outputs": [],
   "source": [
    "X_train, X_test, y_train, y_test = train_test_split(scaled_doc_vectors, doc_vectors['rating'], test_size=0.2)"
   ]
  },
  {
   "cell_type": "code",
   "execution_count": 21,
   "id": "68462df5",
   "metadata": {},
   "outputs": [
    {
     "data": {
      "text/plain": [
       "RandomForestClassifier(n_estimators=30, random_state=24)"
      ]
     },
     "execution_count": 21,
     "metadata": {},
     "output_type": "execute_result"
    }
   ],
   "source": [
    "randomForest = RandomForestClassifier(n_estimators=30, random_state=24)\n",
    "randomForest.fit(X_train, y_train)"
   ]
  },
  {
   "cell_type": "code",
   "execution_count": 22,
   "id": "20464994",
   "metadata": {},
   "outputs": [
    {
     "data": {
      "text/plain": [
       "0.6131613161316132"
      ]
     },
     "execution_count": 22,
     "metadata": {},
     "output_type": "execute_result"
    }
   ],
   "source": [
    "randomForest.score(X_test, y_test)"
   ]
  },
  {
   "cell_type": "code",
   "execution_count": 23,
   "id": "edd241ba",
   "metadata": {},
   "outputs": [],
   "source": [
    "y_pred = randomForest.predict(X_test)"
   ]
  },
  {
   "cell_type": "markdown",
   "id": "0ac344dd",
   "metadata": {},
   "source": [
    "### Confusion Matrix"
   ]
  },
  {
   "cell_type": "code",
   "execution_count": 24,
   "id": "39c843cf",
   "metadata": {},
   "outputs": [
    {
     "data": {
      "text/plain": [
       "array([[ 208,   10,    7,   43,  736],\n",
       "       [  42,   18,    1,   46,  466],\n",
       "       [  47,    6,   19,   63,  628],\n",
       "       [  49,    3,   11,  116, 1508],\n",
       "       [  53,    5,   18,  126, 5770]], dtype=int64)"
      ]
     },
     "execution_count": 24,
     "metadata": {},
     "output_type": "execute_result"
    }
   ],
   "source": [
    "from sklearn.metrics import confusion_matrix\n",
    "cm = confusion_matrix(y_test, y_pred)\n",
    "cm"
   ]
  },
  {
   "cell_type": "code",
   "execution_count": 25,
   "id": "e9ca231a",
   "metadata": {},
   "outputs": [
    {
     "data": {
      "image/png": "[encoded data removed]",
      "text/plain": [
       "<Figure size 720x504 with 2 Axes>"
      ]
     },
     "metadata": {
      "needs_background": "light"
     },
     "output_type": "display_data"
    }
   ],
   "source": [
    "%matplotlib inline\n",
    "plt.figure(figsize=(10,7))\n",
    "sns.heatmap(cm, annot=True)\n",
    "plt.xlabel('Predicted')\n",
    "plt.ylabel('Actual')\n",
    "plt.show()"
   ]
  },
  {
   "cell_type": "markdown",
   "id": "f19b1759",
   "metadata": {},
   "source": [
    "###  f1 score, precision and recall "
   ]
  },
  {
   "cell_type": "code",
   "execution_count": 26,
   "id": "164e00d8",
   "metadata": {},
   "outputs": [
    {
     "name": "stdout",
     "output_type": "stream",
     "text": [
      "Precision: 0.613\n",
      "Recall: 0.613\n",
      "F1 Score: 0.613\n",
      "Accuracy: 0.613\n"
     ]
    }
   ],
   "source": [
    "from sklearn.metrics import precision_score, recall_score, f1_score, accuracy_score\n",
    "print('Precision: %.3f' % precision_score(y_test, y_pred, average='micro'))\n",
    "print('Recall: %.3f' % recall_score(y_test, y_pred, average='micro'))\n",
    "print('F1 Score: %.3f' % f1_score(y_test, y_pred, average='micro'))\n",
    "print('Accuracy: %.3f' % accuracy_score(y_test, y_pred))"
   ]
  },
  {
   "cell_type": "code",
   "execution_count": 27,
   "id": "e4f50e8e",
   "metadata": {},
   "outputs": [],
   "source": [
    "# bias data to 5 rating"
   ]
  }
 ],
 "metadata": {
  "kernelspec": {
   "display_name": "Python 3 (ipykernel)",
   "language": "python",
   "name": "python3"
  },
  "language_info": {
   "codemirror_mode": {
    "name": "ipython",
    "version": 3
   },
   "file_extension": ".py",
   "mimetype": "text/x-python",
   "name": "python",
   "nbconvert_exporter": "python",
   "pygments_lexer": "ipython3",
   "version": "3.10.4"
  }
 },
 "nbformat": 4,
 "nbformat_minor": 5
}
